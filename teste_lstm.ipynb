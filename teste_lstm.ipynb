{
 "cells": [
  {
   "cell_type": "code",
   "execution_count": 1,
   "source": [
    "import matplotlib.pyplot as plt\n",
    "import numpy as np\n",
    "import pandas as pd\n",
    "import more_itertools\n",
    "\n",
    "from keras.models import Sequential\n",
    "from keras.layers import LSTM, Dense\n",
    "\n",
    "from sklearn.metrics import mean_squared_error"
   ],
   "outputs": [
    {
     "output_type": "stream",
     "name": "stderr",
     "text": [
      "2021-09-01 13:48:09.563078: W tensorflow/stream_executor/platform/default/dso_loader.cc:64] Could not load dynamic library 'libcudart.so.11.0'; dlerror: libcudart.so.11.0: cannot open shared object file: No such file or directory\n",
      "2021-09-01 13:48:09.563097: I tensorflow/stream_executor/cuda/cudart_stub.cc:29] Ignore above cudart dlerror if you do not have a GPU set up on your machine.\n"
     ]
    }
   ],
   "metadata": {}
  },
  {
   "cell_type": "markdown",
   "source": [
    "# Preparação dos dados"
   ],
   "metadata": {}
  },
  {
   "cell_type": "markdown",
   "source": [
    "Dividir uma sequência univariada em amostras"
   ],
   "metadata": {}
  },
  {
   "cell_type": "code",
   "execution_count": 2,
   "source": [
    "X = np.linspace(0, 5*np.pi, 100, endpoint=True)\n",
    "C = np.cos(X)\n",
    "\n",
    "# transform numpy array to list\n",
    "C = C.tolist()\n",
    "\n",
    "plt.plot(X, C)\n",
    "plt.show()"
   ],
   "outputs": [
    {
     "output_type": "display_data",
     "data": {
      "text/plain": [
       "<Figure size 432x288 with 1 Axes>"
      ],
      "image/svg+xml": "<?xml version=\"1.0\" encoding=\"utf-8\" standalone=\"no\"?>\n<!DOCTYPE svg PUBLIC \"-//W3C//DTD SVG 1.1//EN\"\n  \"http://www.w3.org/Graphics/SVG/1.1/DTD/svg11.dtd\">\n<svg height=\"248.518125pt\" version=\"1.1\" viewBox=\"0 0 386.845313 248.518125\" width=\"386.845313pt\" xmlns=\"http://www.w3.org/2000/svg\" xmlns:xlink=\"http://www.w3.org/1999/xlink\">\n <metadata>\n  <rdf:RDF xmlns:cc=\"http://creativecommons.org/ns#\" xmlns:dc=\"http://purl.org/dc/elements/1.1/\" xmlns:rdf=\"http://www.w3.org/1999/02/22-rdf-syntax-ns#\">\n   <cc:Work>\n    <dc:type rdf:resource=\"http://purl.org/dc/dcmitype/StillImage\"/>\n    <dc:date>2021-09-01T13:48:12.403312</dc:date>\n    <dc:format>image/svg+xml</dc:format>\n    <dc:creator>\n     <cc:Agent>\n      <dc:title>Matplotlib v3.4.3, https://matplotlib.org/</dc:title>\n     </cc:Agent>\n    </dc:creator>\n   </cc:Work>\n  </rdf:RDF>\n </metadata>\n <defs>\n  <style type=\"text/css\">*{stroke-linecap:butt;stroke-linejoin:round;}</style>\n </defs>\n <g id=\"figure_1\">\n  <g id=\"patch_1\">\n   <path d=\"M 0 248.518125 \nL 386.845313 248.518125 \nL 386.845313 0 \nL 0 0 \nz\n\" style=\"fill:none;\"/>\n  </g>\n  <g id=\"axes_1\">\n   <g id=\"patch_2\">\n    <path d=\"M 44.845313 224.64 \nL 379.645313 224.64 \nL 379.645313 7.2 \nL 44.845313 7.2 \nz\n\" style=\"fill:#ffffff;\"/>\n   </g>\n   <g id=\"matplotlib.axis_1\">\n    <g id=\"xtick_1\">\n     <g id=\"line2d_1\">\n      <defs>\n       <path d=\"M 0 0 \nL 0 3.5 \n\" id=\"me3611a2970\" style=\"stroke:#000000;stroke-width:0.8;\"/>\n      </defs>\n      <g>\n       <use style=\"stroke:#000000;stroke-width:0.8;\" x=\"60.063494\" xlink:href=\"#me3611a2970\" y=\"224.64\"/>\n      </g>\n     </g>\n     <g id=\"text_1\">\n      <!-- 0 -->\n      <g transform=\"translate(56.882244 239.238437)scale(0.1 -0.1)\">\n       <defs>\n        <path d=\"M 2034 4250 \nQ 1547 4250 1301 3770 \nQ 1056 3291 1056 2328 \nQ 1056 1369 1301 889 \nQ 1547 409 2034 409 \nQ 2525 409 2770 889 \nQ 3016 1369 3016 2328 \nQ 3016 3291 2770 3770 \nQ 2525 4250 2034 4250 \nz\nM 2034 4750 \nQ 2819 4750 3233 4129 \nQ 3647 3509 3647 2328 \nQ 3647 1150 3233 529 \nQ 2819 -91 2034 -91 \nQ 1250 -91 836 529 \nQ 422 1150 422 2328 \nQ 422 3509 836 4129 \nQ 1250 4750 2034 4750 \nz\n\" id=\"DejaVuSans-30\" transform=\"scale(0.015625)\"/>\n       </defs>\n       <use xlink:href=\"#DejaVuSans-30\"/>\n      </g>\n     </g>\n    </g>\n    <g id=\"xtick_2\">\n     <g id=\"line2d_2\">\n      <g>\n       <use style=\"stroke:#000000;stroke-width:0.8;\" x=\"98.816276\" xlink:href=\"#me3611a2970\" y=\"224.64\"/>\n      </g>\n     </g>\n     <g id=\"text_2\">\n      <!-- 2 -->\n      <g transform=\"translate(95.635026 239.238437)scale(0.1 -0.1)\">\n       <defs>\n        <path d=\"M 1228 531 \nL 3431 531 \nL 3431 0 \nL 469 0 \nL 469 531 \nQ 828 903 1448 1529 \nQ 2069 2156 2228 2338 \nQ 2531 2678 2651 2914 \nQ 2772 3150 2772 3378 \nQ 2772 3750 2511 3984 \nQ 2250 4219 1831 4219 \nQ 1534 4219 1204 4116 \nQ 875 4013 500 3803 \nL 500 4441 \nQ 881 4594 1212 4672 \nQ 1544 4750 1819 4750 \nQ 2544 4750 2975 4387 \nQ 3406 4025 3406 3419 \nQ 3406 3131 3298 2873 \nQ 3191 2616 2906 2266 \nQ 2828 2175 2409 1742 \nQ 1991 1309 1228 531 \nz\n\" id=\"DejaVuSans-32\" transform=\"scale(0.015625)\"/>\n       </defs>\n       <use xlink:href=\"#DejaVuSans-32\"/>\n      </g>\n     </g>\n    </g>\n    <g id=\"xtick_3\">\n     <g id=\"line2d_3\">\n      <g>\n       <use style=\"stroke:#000000;stroke-width:0.8;\" x=\"137.569058\" xlink:href=\"#me3611a2970\" y=\"224.64\"/>\n      </g>\n     </g>\n     <g id=\"text_3\">\n      <!-- 4 -->\n      <g transform=\"translate(134.387808 239.238437)scale(0.1 -0.1)\">\n       <defs>\n        <path d=\"M 2419 4116 \nL 825 1625 \nL 2419 1625 \nL 2419 4116 \nz\nM 2253 4666 \nL 3047 4666 \nL 3047 1625 \nL 3713 1625 \nL 3713 1100 \nL 3047 1100 \nL 3047 0 \nL 2419 0 \nL 2419 1100 \nL 313 1100 \nL 313 1709 \nL 2253 4666 \nz\n\" id=\"DejaVuSans-34\" transform=\"scale(0.015625)\"/>\n       </defs>\n       <use xlink:href=\"#DejaVuSans-34\"/>\n      </g>\n     </g>\n    </g>\n    <g id=\"xtick_4\">\n     <g id=\"line2d_4\">\n      <g>\n       <use style=\"stroke:#000000;stroke-width:0.8;\" x=\"176.32184\" xlink:href=\"#me3611a2970\" y=\"224.64\"/>\n      </g>\n     </g>\n     <g id=\"text_4\">\n      <!-- 6 -->\n      <g transform=\"translate(173.14059 239.238437)scale(0.1 -0.1)\">\n       <defs>\n        <path d=\"M 2113 2584 \nQ 1688 2584 1439 2293 \nQ 1191 2003 1191 1497 \nQ 1191 994 1439 701 \nQ 1688 409 2113 409 \nQ 2538 409 2786 701 \nQ 3034 994 3034 1497 \nQ 3034 2003 2786 2293 \nQ 2538 2584 2113 2584 \nz\nM 3366 4563 \nL 3366 3988 \nQ 3128 4100 2886 4159 \nQ 2644 4219 2406 4219 \nQ 1781 4219 1451 3797 \nQ 1122 3375 1075 2522 \nQ 1259 2794 1537 2939 \nQ 1816 3084 2150 3084 \nQ 2853 3084 3261 2657 \nQ 3669 2231 3669 1497 \nQ 3669 778 3244 343 \nQ 2819 -91 2113 -91 \nQ 1303 -91 875 529 \nQ 447 1150 447 2328 \nQ 447 3434 972 4092 \nQ 1497 4750 2381 4750 \nQ 2619 4750 2861 4703 \nQ 3103 4656 3366 4563 \nz\n\" id=\"DejaVuSans-36\" transform=\"scale(0.015625)\"/>\n       </defs>\n       <use xlink:href=\"#DejaVuSans-36\"/>\n      </g>\n     </g>\n    </g>\n    <g id=\"xtick_5\">\n     <g id=\"line2d_5\">\n      <g>\n       <use style=\"stroke:#000000;stroke-width:0.8;\" x=\"215.074621\" xlink:href=\"#me3611a2970\" y=\"224.64\"/>\n      </g>\n     </g>\n     <g id=\"text_5\">\n      <!-- 8 -->\n      <g transform=\"translate(211.893371 239.238437)scale(0.1 -0.1)\">\n       <defs>\n        <path d=\"M 2034 2216 \nQ 1584 2216 1326 1975 \nQ 1069 1734 1069 1313 \nQ 1069 891 1326 650 \nQ 1584 409 2034 409 \nQ 2484 409 2743 651 \nQ 3003 894 3003 1313 \nQ 3003 1734 2745 1975 \nQ 2488 2216 2034 2216 \nz\nM 1403 2484 \nQ 997 2584 770 2862 \nQ 544 3141 544 3541 \nQ 544 4100 942 4425 \nQ 1341 4750 2034 4750 \nQ 2731 4750 3128 4425 \nQ 3525 4100 3525 3541 \nQ 3525 3141 3298 2862 \nQ 3072 2584 2669 2484 \nQ 3125 2378 3379 2068 \nQ 3634 1759 3634 1313 \nQ 3634 634 3220 271 \nQ 2806 -91 2034 -91 \nQ 1263 -91 848 271 \nQ 434 634 434 1313 \nQ 434 1759 690 2068 \nQ 947 2378 1403 2484 \nz\nM 1172 3481 \nQ 1172 3119 1398 2916 \nQ 1625 2713 2034 2713 \nQ 2441 2713 2670 2916 \nQ 2900 3119 2900 3481 \nQ 2900 3844 2670 4047 \nQ 2441 4250 2034 4250 \nQ 1625 4250 1398 4047 \nQ 1172 3844 1172 3481 \nz\n\" id=\"DejaVuSans-38\" transform=\"scale(0.015625)\"/>\n       </defs>\n       <use xlink:href=\"#DejaVuSans-38\"/>\n      </g>\n     </g>\n    </g>\n    <g id=\"xtick_6\">\n     <g id=\"line2d_6\">\n      <g>\n       <use style=\"stroke:#000000;stroke-width:0.8;\" x=\"253.827403\" xlink:href=\"#me3611a2970\" y=\"224.64\"/>\n      </g>\n     </g>\n     <g id=\"text_6\">\n      <!-- 10 -->\n      <g transform=\"translate(247.464903 239.238437)scale(0.1 -0.1)\">\n       <defs>\n        <path d=\"M 794 531 \nL 1825 531 \nL 1825 4091 \nL 703 3866 \nL 703 4441 \nL 1819 4666 \nL 2450 4666 \nL 2450 531 \nL 3481 531 \nL 3481 0 \nL 794 0 \nL 794 531 \nz\n\" id=\"DejaVuSans-31\" transform=\"scale(0.015625)\"/>\n       </defs>\n       <use xlink:href=\"#DejaVuSans-31\"/>\n       <use x=\"63.623047\" xlink:href=\"#DejaVuSans-30\"/>\n      </g>\n     </g>\n    </g>\n    <g id=\"xtick_7\">\n     <g id=\"line2d_7\">\n      <g>\n       <use style=\"stroke:#000000;stroke-width:0.8;\" x=\"292.580185\" xlink:href=\"#me3611a2970\" y=\"224.64\"/>\n      </g>\n     </g>\n     <g id=\"text_7\">\n      <!-- 12 -->\n      <g transform=\"translate(286.217685 239.238437)scale(0.1 -0.1)\">\n       <use xlink:href=\"#DejaVuSans-31\"/>\n       <use x=\"63.623047\" xlink:href=\"#DejaVuSans-32\"/>\n      </g>\n     </g>\n    </g>\n    <g id=\"xtick_8\">\n     <g id=\"line2d_8\">\n      <g>\n       <use style=\"stroke:#000000;stroke-width:0.8;\" x=\"331.332967\" xlink:href=\"#me3611a2970\" y=\"224.64\"/>\n      </g>\n     </g>\n     <g id=\"text_8\">\n      <!-- 14 -->\n      <g transform=\"translate(324.970467 239.238437)scale(0.1 -0.1)\">\n       <use xlink:href=\"#DejaVuSans-31\"/>\n       <use x=\"63.623047\" xlink:href=\"#DejaVuSans-34\"/>\n      </g>\n     </g>\n    </g>\n    <g id=\"xtick_9\">\n     <g id=\"line2d_9\">\n      <g>\n       <use style=\"stroke:#000000;stroke-width:0.8;\" x=\"370.085749\" xlink:href=\"#me3611a2970\" y=\"224.64\"/>\n      </g>\n     </g>\n     <g id=\"text_9\">\n      <!-- 16 -->\n      <g transform=\"translate(363.723249 239.238437)scale(0.1 -0.1)\">\n       <use xlink:href=\"#DejaVuSans-31\"/>\n       <use x=\"63.623047\" xlink:href=\"#DejaVuSans-36\"/>\n      </g>\n     </g>\n    </g>\n   </g>\n   <g id=\"matplotlib.axis_2\">\n    <g id=\"ytick_1\">\n     <g id=\"line2d_10\">\n      <defs>\n       <path d=\"M 0 0 \nL -3.5 0 \n\" id=\"mdc8e0fadbf\" style=\"stroke:#000000;stroke-width:0.8;\"/>\n      </defs>\n      <g>\n       <use style=\"stroke:#000000;stroke-width:0.8;\" x=\"44.845313\" xlink:href=\"#mdc8e0fadbf\" y=\"214.756364\"/>\n      </g>\n     </g>\n     <g id=\"text_10\">\n      <!-- −1.00 -->\n      <g transform=\"translate(7.2 218.555582)scale(0.1 -0.1)\">\n       <defs>\n        <path d=\"M 678 2272 \nL 4684 2272 \nL 4684 1741 \nL 678 1741 \nL 678 2272 \nz\n\" id=\"DejaVuSans-2212\" transform=\"scale(0.015625)\"/>\n        <path d=\"M 684 794 \nL 1344 794 \nL 1344 0 \nL 684 0 \nL 684 794 \nz\n\" id=\"DejaVuSans-2e\" transform=\"scale(0.015625)\"/>\n       </defs>\n       <use xlink:href=\"#DejaVuSans-2212\"/>\n       <use x=\"83.789062\" xlink:href=\"#DejaVuSans-31\"/>\n       <use x=\"147.412109\" xlink:href=\"#DejaVuSans-2e\"/>\n       <use x=\"179.199219\" xlink:href=\"#DejaVuSans-30\"/>\n       <use x=\"242.822266\" xlink:href=\"#DejaVuSans-30\"/>\n      </g>\n     </g>\n    </g>\n    <g id=\"ytick_2\">\n     <g id=\"line2d_11\">\n      <g>\n       <use style=\"stroke:#000000;stroke-width:0.8;\" x=\"44.845313\" xlink:href=\"#mdc8e0fadbf\" y=\"190.047273\"/>\n      </g>\n     </g>\n     <g id=\"text_11\">\n      <!-- −0.75 -->\n      <g transform=\"translate(7.2 193.846491)scale(0.1 -0.1)\">\n       <defs>\n        <path d=\"M 525 4666 \nL 3525 4666 \nL 3525 4397 \nL 1831 0 \nL 1172 0 \nL 2766 4134 \nL 525 4134 \nL 525 4666 \nz\n\" id=\"DejaVuSans-37\" transform=\"scale(0.015625)\"/>\n        <path d=\"M 691 4666 \nL 3169 4666 \nL 3169 4134 \nL 1269 4134 \nL 1269 2991 \nQ 1406 3038 1543 3061 \nQ 1681 3084 1819 3084 \nQ 2600 3084 3056 2656 \nQ 3513 2228 3513 1497 \nQ 3513 744 3044 326 \nQ 2575 -91 1722 -91 \nQ 1428 -91 1123 -41 \nQ 819 9 494 109 \nL 494 744 \nQ 775 591 1075 516 \nQ 1375 441 1709 441 \nQ 2250 441 2565 725 \nQ 2881 1009 2881 1497 \nQ 2881 1984 2565 2268 \nQ 2250 2553 1709 2553 \nQ 1456 2553 1204 2497 \nQ 953 2441 691 2322 \nL 691 4666 \nz\n\" id=\"DejaVuSans-35\" transform=\"scale(0.015625)\"/>\n       </defs>\n       <use xlink:href=\"#DejaVuSans-2212\"/>\n       <use x=\"83.789062\" xlink:href=\"#DejaVuSans-30\"/>\n       <use x=\"147.412109\" xlink:href=\"#DejaVuSans-2e\"/>\n       <use x=\"179.199219\" xlink:href=\"#DejaVuSans-37\"/>\n       <use x=\"242.822266\" xlink:href=\"#DejaVuSans-35\"/>\n      </g>\n     </g>\n    </g>\n    <g id=\"ytick_3\">\n     <g id=\"line2d_12\">\n      <g>\n       <use style=\"stroke:#000000;stroke-width:0.8;\" x=\"44.845313\" xlink:href=\"#mdc8e0fadbf\" y=\"165.338182\"/>\n      </g>\n     </g>\n     <g id=\"text_12\">\n      <!-- −0.50 -->\n      <g transform=\"translate(7.2 169.137401)scale(0.1 -0.1)\">\n       <use xlink:href=\"#DejaVuSans-2212\"/>\n       <use x=\"83.789062\" xlink:href=\"#DejaVuSans-30\"/>\n       <use x=\"147.412109\" xlink:href=\"#DejaVuSans-2e\"/>\n       <use x=\"179.199219\" xlink:href=\"#DejaVuSans-35\"/>\n       <use x=\"242.822266\" xlink:href=\"#DejaVuSans-30\"/>\n      </g>\n     </g>\n    </g>\n    <g id=\"ytick_4\">\n     <g id=\"line2d_13\">\n      <g>\n       <use style=\"stroke:#000000;stroke-width:0.8;\" x=\"44.845313\" xlink:href=\"#mdc8e0fadbf\" y=\"140.629091\"/>\n      </g>\n     </g>\n     <g id=\"text_13\">\n      <!-- −0.25 -->\n      <g transform=\"translate(7.2 144.42831)scale(0.1 -0.1)\">\n       <use xlink:href=\"#DejaVuSans-2212\"/>\n       <use x=\"83.789062\" xlink:href=\"#DejaVuSans-30\"/>\n       <use x=\"147.412109\" xlink:href=\"#DejaVuSans-2e\"/>\n       <use x=\"179.199219\" xlink:href=\"#DejaVuSans-32\"/>\n       <use x=\"242.822266\" xlink:href=\"#DejaVuSans-35\"/>\n      </g>\n     </g>\n    </g>\n    <g id=\"ytick_5\">\n     <g id=\"line2d_14\">\n      <g>\n       <use style=\"stroke:#000000;stroke-width:0.8;\" x=\"44.845313\" xlink:href=\"#mdc8e0fadbf\" y=\"115.92\"/>\n      </g>\n     </g>\n     <g id=\"text_14\">\n      <!-- 0.00 -->\n      <g transform=\"translate(15.579688 119.719219)scale(0.1 -0.1)\">\n       <use xlink:href=\"#DejaVuSans-30\"/>\n       <use x=\"63.623047\" xlink:href=\"#DejaVuSans-2e\"/>\n       <use x=\"95.410156\" xlink:href=\"#DejaVuSans-30\"/>\n       <use x=\"159.033203\" xlink:href=\"#DejaVuSans-30\"/>\n      </g>\n     </g>\n    </g>\n    <g id=\"ytick_6\">\n     <g id=\"line2d_15\">\n      <g>\n       <use style=\"stroke:#000000;stroke-width:0.8;\" x=\"44.845313\" xlink:href=\"#mdc8e0fadbf\" y=\"91.210909\"/>\n      </g>\n     </g>\n     <g id=\"text_15\">\n      <!-- 0.25 -->\n      <g transform=\"translate(15.579688 95.010128)scale(0.1 -0.1)\">\n       <use xlink:href=\"#DejaVuSans-30\"/>\n       <use x=\"63.623047\" xlink:href=\"#DejaVuSans-2e\"/>\n       <use x=\"95.410156\" xlink:href=\"#DejaVuSans-32\"/>\n       <use x=\"159.033203\" xlink:href=\"#DejaVuSans-35\"/>\n      </g>\n     </g>\n    </g>\n    <g id=\"ytick_7\">\n     <g id=\"line2d_16\">\n      <g>\n       <use style=\"stroke:#000000;stroke-width:0.8;\" x=\"44.845313\" xlink:href=\"#mdc8e0fadbf\" y=\"66.501818\"/>\n      </g>\n     </g>\n     <g id=\"text_16\">\n      <!-- 0.50 -->\n      <g transform=\"translate(15.579688 70.301037)scale(0.1 -0.1)\">\n       <use xlink:href=\"#DejaVuSans-30\"/>\n       <use x=\"63.623047\" xlink:href=\"#DejaVuSans-2e\"/>\n       <use x=\"95.410156\" xlink:href=\"#DejaVuSans-35\"/>\n       <use x=\"159.033203\" xlink:href=\"#DejaVuSans-30\"/>\n      </g>\n     </g>\n    </g>\n    <g id=\"ytick_8\">\n     <g id=\"line2d_17\">\n      <g>\n       <use style=\"stroke:#000000;stroke-width:0.8;\" x=\"44.845313\" xlink:href=\"#mdc8e0fadbf\" y=\"41.792727\"/>\n      </g>\n     </g>\n     <g id=\"text_17\">\n      <!-- 0.75 -->\n      <g transform=\"translate(15.579688 45.591946)scale(0.1 -0.1)\">\n       <use xlink:href=\"#DejaVuSans-30\"/>\n       <use x=\"63.623047\" xlink:href=\"#DejaVuSans-2e\"/>\n       <use x=\"95.410156\" xlink:href=\"#DejaVuSans-37\"/>\n       <use x=\"159.033203\" xlink:href=\"#DejaVuSans-35\"/>\n      </g>\n     </g>\n    </g>\n    <g id=\"ytick_9\">\n     <g id=\"line2d_18\">\n      <g>\n       <use style=\"stroke:#000000;stroke-width:0.8;\" x=\"44.845313\" xlink:href=\"#mdc8e0fadbf\" y=\"17.083636\"/>\n      </g>\n     </g>\n     <g id=\"text_18\">\n      <!-- 1.00 -->\n      <g transform=\"translate(15.579688 20.882855)scale(0.1 -0.1)\">\n       <use xlink:href=\"#DejaVuSans-31\"/>\n       <use x=\"63.623047\" xlink:href=\"#DejaVuSans-2e\"/>\n       <use x=\"95.410156\" xlink:href=\"#DejaVuSans-30\"/>\n       <use x=\"159.033203\" xlink:href=\"#DejaVuSans-30\"/>\n      </g>\n     </g>\n    </g>\n   </g>\n   <g id=\"line2d_19\">\n    <path clip-path=\"url(#pea7704bfe9)\" d=\"M 60.063494 17.083636 \nL 63.137874 18.325131 \nL 66.212255 22.018426 \nL 69.286635 28.070736 \nL 72.361015 36.330016 \nL 75.435395 46.588773 \nL 78.509775 58.589284 \nL 81.584155 72.030071 \nL 84.658536 86.57347 \nL 87.732916 101.854119 \nL 90.807296 117.488134 \nL 93.881676 133.082754 \nL 96.956056 148.246208 \nL 100.030436 162.597556 \nL 103.104817 175.776259 \nL 106.179197 187.451241 \nL 109.253577 197.329198 \nL 112.327957 205.161976 \nL 115.402337 210.752796 \nL 118.476717 213.961207 \nL 121.551098 214.706604 \nL 124.625478 212.970262 \nL 127.699858 208.795802 \nL 130.774238 202.288095 \nL 133.848618 193.61063 \nL 136.922998 182.981403 \nL 139.997379 170.667445 \nL 143.071759 156.978109 \nL 146.146139 142.257303 \nL 149.220519 126.874845 \nL 152.294899 111.217176 \nL 155.369279 95.677654 \nL 158.44366 80.646664 \nL 161.51804 66.501818 \nL 164.59242 53.598467 \nL 167.6668 42.260772 \nL 170.74118 32.77356 \nL 173.81556 25.375171 \nL 176.889941 20.25147 \nL 179.964321 17.531175 \nL 183.038701 17.282626 \nL 186.113081 19.512067 \nL 189.187461 24.163489 \nL 192.261841 31.120039 \nL 195.336222 40.206953 \nL 198.410602 51.195946 \nL 201.484982 63.810952 \nL 204.559362 77.735053 \nL 207.633742 92.618444 \nL 210.708122 108.087222 \nL 213.782503 123.752778 \nL 216.856883 139.221556 \nL 219.931263 154.104947 \nL 223.005643 168.029048 \nL 226.080023 180.644054 \nL 229.154403 191.633047 \nL 232.228784 200.719961 \nL 235.303164 207.676511 \nL 238.377544 212.327933 \nL 241.451924 214.557374 \nL 244.526304 214.308825 \nL 247.600684 211.58853 \nL 250.675065 206.464829 \nL 253.749445 199.06644 \nL 256.823825 189.579228 \nL 259.898205 178.241533 \nL 262.972585 165.338182 \nL 266.046965 151.193336 \nL 269.121346 136.162346 \nL 272.195726 120.622824 \nL 275.270106 104.965155 \nL 278.344486 89.582697 \nL 281.418866 74.861891 \nL 284.493246 61.172555 \nL 287.567627 48.858597 \nL 290.642007 38.22937 \nL 293.716387 29.551905 \nL 296.790767 23.044198 \nL 299.865147 18.869738 \nL 302.939527 17.133396 \nL 306.013908 17.878793 \nL 309.088288 21.087204 \nL 312.162668 26.678024 \nL 315.237048 34.510802 \nL 318.311428 44.388759 \nL 321.385808 56.063741 \nL 324.460189 69.242444 \nL 327.534569 83.593792 \nL 330.608949 98.757246 \nL 333.683329 114.351866 \nL 336.757709 129.985881 \nL 339.832089 145.26653 \nL 342.90647 159.809929 \nL 345.98085 173.250716 \nL 349.05523 185.251227 \nL 352.12961 195.509984 \nL 355.20399 203.769264 \nL 358.27837 209.821574 \nL 361.352751 213.514869 \nL 364.427131 214.756364 \n\" style=\"fill:none;stroke:#1f77b4;stroke-linecap:square;stroke-width:1.5;\"/>\n   </g>\n   <g id=\"patch_3\">\n    <path d=\"M 44.845313 224.64 \nL 44.845313 7.2 \n\" style=\"fill:none;stroke:#000000;stroke-linecap:square;stroke-linejoin:miter;stroke-width:0.8;\"/>\n   </g>\n   <g id=\"patch_4\">\n    <path d=\"M 379.645313 224.64 \nL 379.645313 7.2 \n\" style=\"fill:none;stroke:#000000;stroke-linecap:square;stroke-linejoin:miter;stroke-width:0.8;\"/>\n   </g>\n   <g id=\"patch_5\">\n    <path d=\"M 44.845313 224.64 \nL 379.645313 224.64 \n\" style=\"fill:none;stroke:#000000;stroke-linecap:square;stroke-linejoin:miter;stroke-width:0.8;\"/>\n   </g>\n   <g id=\"patch_6\">\n    <path d=\"M 44.845313 7.2 \nL 379.645313 7.2 \n\" style=\"fill:none;stroke:#000000;stroke-linecap:square;stroke-linejoin:miter;stroke-width:0.8;\"/>\n   </g>\n  </g>\n </g>\n <defs>\n  <clipPath id=\"pea7704bfe9\">\n   <rect height=\"217.44\" width=\"334.8\" x=\"44.845313\" y=\"7.2\"/>\n  </clipPath>\n </defs>\n</svg>\n",
      "image/png": "[encoded data removed]"
     },
     "metadata": {
      "needs_background": "light"
     }
    }
   ],
   "metadata": {}
  },
  {
   "cell_type": "code",
   "execution_count": 3,
   "source": [
    "print(C)"
   ],
   "outputs": [
    {
     "output_type": "stream",
     "name": "stdout",
     "text": [
      "[1.0, 0.9874388886763943, 0.9500711177409454, 0.8888354486549235, 0.8052702575310586, 0.7014748877063213, 0.5800569095711982, 0.44406661260577424, 0.2969203753282749, 0.14231483827328512, -0.015865963834807807, -0.1736481776669303, -0.32706796331742166, -0.4722710747726826, -0.6056096871376665, -0.7237340381050702, -0.8236765814298327, -0.9029265382866211, -0.9594929736144974, -0.9919548128307953, -0.9994965423831852, -0.9819286972627067, -0.9396926207859084, -0.873849377069785, -0.7860530947427874, -0.6785094115571322, -0.5539200638661105, -0.4154150130018864, -0.2664738136900355, -0.11083819990101122, 0.04758191582374238, 0.20480666806519018, 0.35688622159187167, 0.5000000000000001, 0.6305526670845221, 0.7452644496757546, 0.8412535328311812, 0.9161084574320694, 0.9679487013963562, 0.9954719225730846, 0.9979866764718844, 0.975429786885407, 0.9283679330160726, 0.8579834132349773, 0.7660444431189781, 0.654860733945285, 0.5272254676105028, 0.3863451256931288, 0.2357589355094271, 0.07924995685678891, -0.0792499568567883, -0.2357589355094265, -0.38634512569312823, -0.5272254676105023, -0.6548607339452852, -0.7660444431189783, -0.8579834132349765, -0.9283679330160723, -0.9754297868854069, -0.9979866764718844, -0.9954719225730846, -0.9679487013963561, -0.91610845743207, -0.8412535328311815, -0.745264449675755, -0.6305526670845226, -0.49999999999999983, -0.35688622159187305, -0.20480666806519165, -0.04758191582374299, 0.11083819990101061, 0.2664738136900349, 0.4154150130018866, 0.5539200638661093, 0.6785094115571315, 0.7860530947427871, 0.8738493770697848, 0.9396926207859083, 0.9819286972627067, 0.9994965423831851, 0.9919548128307955, 0.9594929736144976, 0.9029265382866214, 0.8236765814298328, 0.72373403810507, 0.6056096871376676, 0.47227107477268354, 0.32706796331742227, 0.1736481776669307, 0.015865963834807977, -0.1423148382732854, -0.2969203753282737, -0.4440666126057733, -0.5800569095711977, -0.701474887706321, -0.8052702575310586, -0.8888354486549236, -0.950071117740945, -0.9874388886763942, -1.0]\n"
     ]
    }
   ],
   "metadata": {}
  },
  {
   "cell_type": "markdown",
   "source": [
    "Podemos dividir a sequência em vários padrões de entrada / saída chamados amostras, onde três etapas de tempo são usadas como entrada e uma etapa de tempo é usada como saída para a previsão de uma etapa que está sendo aprendida."
   ],
   "metadata": {}
  },
  {
   "cell_type": "code",
   "execution_count": 4,
   "source": [
    "# Função para dividir uma sequência univariada em amostras para o método de janelas\n",
    "# X - amostras de entrada; y - variável que será predita\n",
    "\n",
    "def split_sequence(sequence, n_steps):\n",
    "\tX, y = list(), list()\n",
    "\tfor i in range(len(sequence)):\n",
    "\t\tend_ix = i + n_steps\n",
    "\t\tif end_ix > len(sequence)-1:\n",
    "\t\t\tbreak\n",
    "\t\tseq_x, seq_y = sequence[i:end_ix], sequence[end_ix]\n",
    "\t\tX.append(seq_x)\n",
    "\t\ty.append(seq_y)\n",
    "\treturn np.array(X), np.array(y)"
   ],
   "outputs": [],
   "metadata": {}
  },
  {
   "cell_type": "code",
   "execution_count": 5,
   "source": [
    "# Escolha do numero de passos no tempo\n",
    "n_steps = 3\n",
    "\n",
    "X, y = split_sequence(C, n_steps)\n",
    "\n",
    "for i in range(len(X)):\n",
    "\tprint(X[i], y[i])"
   ],
   "outputs": [
    {
     "output_type": "stream",
     "name": "stdout",
     "text": [
      "[1.         0.98743889 0.95007112] 0.8888354486549235\n",
      "[0.98743889 0.95007112 0.88883545] 0.8052702575310586\n",
      "[0.95007112 0.88883545 0.80527026] 0.7014748877063213\n",
      "[0.88883545 0.80527026 0.70147489] 0.5800569095711982\n",
      "[0.80527026 0.70147489 0.58005691] 0.44406661260577424\n",
      "[0.70147489 0.58005691 0.44406661] 0.2969203753282749\n",
      "[0.58005691 0.44406661 0.29692038] 0.14231483827328512\n",
      "[0.44406661 0.29692038 0.14231484] -0.015865963834807807\n",
      "[ 0.29692038  0.14231484 -0.01586596] -0.1736481776669303\n",
      "[ 0.14231484 -0.01586596 -0.17364818] -0.32706796331742166\n",
      "[-0.01586596 -0.17364818 -0.32706796] -0.4722710747726826\n",
      "[-0.17364818 -0.32706796 -0.47227107] -0.6056096871376665\n",
      "[-0.32706796 -0.47227107 -0.60560969] -0.7237340381050702\n",
      "[-0.47227107 -0.60560969 -0.72373404] -0.8236765814298327\n",
      "[-0.60560969 -0.72373404 -0.82367658] -0.9029265382866211\n",
      "[-0.72373404 -0.82367658 -0.90292654] -0.9594929736144974\n",
      "[-0.82367658 -0.90292654 -0.95949297] -0.9919548128307953\n",
      "[-0.90292654 -0.95949297 -0.99195481] -0.9994965423831852\n",
      "[-0.95949297 -0.99195481 -0.99949654] -0.9819286972627067\n",
      "[-0.99195481 -0.99949654 -0.9819287 ] -0.9396926207859084\n",
      "[-0.99949654 -0.9819287  -0.93969262] -0.873849377069785\n",
      "[-0.9819287  -0.93969262 -0.87384938] -0.7860530947427874\n",
      "[-0.93969262 -0.87384938 -0.78605309] -0.6785094115571322\n",
      "[-0.87384938 -0.78605309 -0.67850941] -0.5539200638661105\n",
      "[-0.78605309 -0.67850941 -0.55392006] -0.4154150130018864\n",
      "[-0.67850941 -0.55392006 -0.41541501] -0.2664738136900355\n",
      "[-0.55392006 -0.41541501 -0.26647381] -0.11083819990101122\n",
      "[-0.41541501 -0.26647381 -0.1108382 ] 0.04758191582374238\n",
      "[-0.26647381 -0.1108382   0.04758192] 0.20480666806519018\n",
      "[-0.1108382   0.04758192  0.20480667] 0.35688622159187167\n",
      "[0.04758192 0.20480667 0.35688622] 0.5000000000000001\n",
      "[0.20480667 0.35688622 0.5       ] 0.6305526670845221\n",
      "[0.35688622 0.5        0.63055267] 0.7452644496757546\n",
      "[0.5        0.63055267 0.74526445] 0.8412535328311812\n",
      "[0.63055267 0.74526445 0.84125353] 0.9161084574320694\n",
      "[0.74526445 0.84125353 0.91610846] 0.9679487013963562\n",
      "[0.84125353 0.91610846 0.9679487 ] 0.9954719225730846\n",
      "[0.91610846 0.9679487  0.99547192] 0.9979866764718844\n",
      "[0.9679487  0.99547192 0.99798668] 0.975429786885407\n",
      "[0.99547192 0.99798668 0.97542979] 0.9283679330160726\n",
      "[0.99798668 0.97542979 0.92836793] 0.8579834132349773\n",
      "[0.97542979 0.92836793 0.85798341] 0.7660444431189781\n",
      "[0.92836793 0.85798341 0.76604444] 0.654860733945285\n",
      "[0.85798341 0.76604444 0.65486073] 0.5272254676105028\n",
      "[0.76604444 0.65486073 0.52722547] 0.3863451256931288\n",
      "[0.65486073 0.52722547 0.38634513] 0.2357589355094271\n",
      "[0.52722547 0.38634513 0.23575894] 0.07924995685678891\n",
      "[0.38634513 0.23575894 0.07924996] -0.0792499568567883\n",
      "[ 0.23575894  0.07924996 -0.07924996] -0.2357589355094265\n",
      "[ 0.07924996 -0.07924996 -0.23575894] -0.38634512569312823\n",
      "[-0.07924996 -0.23575894 -0.38634513] -0.5272254676105023\n",
      "[-0.23575894 -0.38634513 -0.52722547] -0.6548607339452852\n",
      "[-0.38634513 -0.52722547 -0.65486073] -0.7660444431189783\n",
      "[-0.52722547 -0.65486073 -0.76604444] -0.8579834132349765\n",
      "[-0.65486073 -0.76604444 -0.85798341] -0.9283679330160723\n",
      "[-0.76604444 -0.85798341 -0.92836793] -0.9754297868854069\n",
      "[-0.85798341 -0.92836793 -0.97542979] -0.9979866764718844\n",
      "[-0.92836793 -0.97542979 -0.99798668] -0.9954719225730846\n",
      "[-0.97542979 -0.99798668 -0.99547192] -0.9679487013963561\n",
      "[-0.99798668 -0.99547192 -0.9679487 ] -0.91610845743207\n",
      "[-0.99547192 -0.9679487  -0.91610846] -0.8412535328311815\n",
      "[-0.9679487  -0.91610846 -0.84125353] -0.745264449675755\n",
      "[-0.91610846 -0.84125353 -0.74526445] -0.6305526670845226\n",
      "[-0.84125353 -0.74526445 -0.63055267] -0.49999999999999983\n",
      "[-0.74526445 -0.63055267 -0.5       ] -0.35688622159187305\n",
      "[-0.63055267 -0.5        -0.35688622] -0.20480666806519165\n",
      "[-0.5        -0.35688622 -0.20480667] -0.04758191582374299\n",
      "[-0.35688622 -0.20480667 -0.04758192] 0.11083819990101061\n",
      "[-0.20480667 -0.04758192  0.1108382 ] 0.2664738136900349\n",
      "[-0.04758192  0.1108382   0.26647381] 0.4154150130018866\n",
      "[0.1108382  0.26647381 0.41541501] 0.5539200638661093\n",
      "[0.26647381 0.41541501 0.55392006] 0.6785094115571315\n",
      "[0.41541501 0.55392006 0.67850941] 0.7860530947427871\n",
      "[0.55392006 0.67850941 0.78605309] 0.8738493770697848\n",
      "[0.67850941 0.78605309 0.87384938] 0.9396926207859083\n",
      "[0.78605309 0.87384938 0.93969262] 0.9819286972627067\n",
      "[0.87384938 0.93969262 0.9819287 ] 0.9994965423831851\n",
      "[0.93969262 0.9819287  0.99949654] 0.9919548128307955\n",
      "[0.9819287  0.99949654 0.99195481] 0.9594929736144976\n",
      "[0.99949654 0.99195481 0.95949297] 0.9029265382866214\n",
      "[0.99195481 0.95949297 0.90292654] 0.8236765814298328\n",
      "[0.95949297 0.90292654 0.82367658] 0.72373403810507\n",
      "[0.90292654 0.82367658 0.72373404] 0.6056096871376676\n",
      "[0.82367658 0.72373404 0.60560969] 0.47227107477268354\n",
      "[0.72373404 0.60560969 0.47227107] 0.32706796331742227\n",
      "[0.60560969 0.47227107 0.32706796] 0.1736481776669307\n",
      "[0.47227107 0.32706796 0.17364818] 0.015865963834807977\n",
      "[0.32706796 0.17364818 0.01586596] -0.1423148382732854\n",
      "[ 0.17364818  0.01586596 -0.14231484] -0.2969203753282737\n",
      "[ 0.01586596 -0.14231484 -0.29692038] -0.4440666126057733\n",
      "[-0.14231484 -0.29692038 -0.44406661] -0.5800569095711977\n",
      "[-0.29692038 -0.44406661 -0.58005691] -0.701474887706321\n",
      "[-0.44406661 -0.58005691 -0.70147489] -0.8052702575310586\n",
      "[-0.58005691 -0.70147489 -0.80527026] -0.8888354486549236\n",
      "[-0.70147489 -0.80527026 -0.88883545] -0.950071117740945\n",
      "[-0.80527026 -0.88883545 -0.95007112] -0.9874388886763942\n",
      "[-0.88883545 -0.95007112 -0.98743889] -1.0\n"
     ]
    }
   ],
   "metadata": {}
  },
  {
   "cell_type": "code",
   "execution_count": 6,
   "source": [
    "n_features = 1 # série temporal univariada (uma variável de predição)"
   ],
   "outputs": [],
   "metadata": {}
  },
  {
   "cell_type": "code",
   "execution_count": 7,
   "source": [
    "X.shape"
   ],
   "outputs": [
    {
     "output_type": "execute_result",
     "data": {
      "text/plain": [
       "(97, 3)"
      ]
     },
     "metadata": {},
     "execution_count": 7
    }
   ],
   "metadata": {}
  },
  {
   "cell_type": "code",
   "execution_count": 8,
   "source": [
    "# reshape de [samples, timesteps] para [samples, timesteps, features]\n",
    "X = X.reshape((X.shape[0], X.shape[1], n_features))"
   ],
   "outputs": [],
   "metadata": {}
  },
  {
   "cell_type": "code",
   "execution_count": 9,
   "source": [
    "X.shape"
   ],
   "outputs": [
    {
     "output_type": "execute_result",
     "data": {
      "text/plain": [
       "(97, 3, 1)"
      ]
     },
     "metadata": {},
     "execution_count": 9
    }
   ],
   "metadata": {}
  },
  {
   "cell_type": "code",
   "execution_count": 10,
   "source": [
    "X[0:4]"
   ],
   "outputs": [
    {
     "output_type": "execute_result",
     "data": {
      "text/plain": [
       "array([[[1.        ],\n",
       "        [0.98743889],\n",
       "        [0.95007112]],\n",
       "\n",
       "       [[0.98743889],\n",
       "        [0.95007112],\n",
       "        [0.88883545]],\n",
       "\n",
       "       [[0.95007112],\n",
       "        [0.88883545],\n",
       "        [0.80527026]],\n",
       "\n",
       "       [[0.88883545],\n",
       "        [0.80527026],\n",
       "        [0.70147489]]])"
      ]
     },
     "metadata": {},
     "execution_count": 10
    }
   ],
   "metadata": {}
  },
  {
   "cell_type": "markdown",
   "source": [
    "## Divisão da série temporal em treino e teste"
   ],
   "metadata": {}
  },
  {
   "cell_type": "code",
   "execution_count": 11,
   "source": [
    "# As 60 primeiras linhas como treino\n",
    "X_train = X[0:60]"
   ],
   "outputs": [],
   "metadata": {}
  },
  {
   "cell_type": "code",
   "execution_count": 12,
   "source": [
    "# O restante das linhas como teste\n",
    "X_test = X[60:]"
   ],
   "outputs": [],
   "metadata": {}
  },
  {
   "cell_type": "markdown",
   "source": [
    "Analogamente para a variável preditora"
   ],
   "metadata": {}
  },
  {
   "cell_type": "code",
   "execution_count": 13,
   "source": [
    "y_train = y[0:60]"
   ],
   "outputs": [],
   "metadata": {}
  },
  {
   "cell_type": "code",
   "execution_count": 14,
   "source": [
    "y_test = y[60:]"
   ],
   "outputs": [],
   "metadata": {}
  },
  {
   "cell_type": "markdown",
   "source": [
    "# Modelos LSTM para séries temporais univariadas"
   ],
   "metadata": {}
  },
  {
   "cell_type": "markdown",
   "source": [
    "Nesse problema de previsão de cosseno, tratamos de um caso de série temporal univariada. Sendo assim, podemos aplicar os seguintes modelos LSTM:\n",
    "\n",
    "* Vanilla LSTM\n",
    "* Stacked LSTM\n",
    "* Bidirectional LSTM\n",
    "* CNN LSTM\n",
    "* ConvLSTM"
   ],
   "metadata": {}
  },
  {
   "cell_type": "markdown",
   "source": [
    "## Vanilla LSTM"
   ],
   "metadata": {}
  },
  {
   "cell_type": "markdown",
   "source": [
    "Vanilla LSTM é um modelo que possui apenas uma camada escondida (hidden layer). E uma camada de saída para realizar a predição. "
   ],
   "metadata": {}
  },
  {
   "cell_type": "markdown",
   "source": [
    "### Definindo o modelo LSTM Vanilla"
   ],
   "metadata": {}
  },
  {
   "cell_type": "code",
   "execution_count": 15,
   "source": [
    "# Definindo o modelo\n",
    "model = Sequential()\n",
    "model.add(LSTM(50, activation='relu', input_shape=(n_steps, n_features)))\n",
    "model.add(Dense(1))\n",
    "model.compile(optimizer='adam', loss='mse')"
   ],
   "outputs": [
    {
     "output_type": "stream",
     "name": "stderr",
     "text": [
      "2021-09-01 13:48:15.155225: W tensorflow/stream_executor/platform/default/dso_loader.cc:64] Could not load dynamic library 'libcuda.so.1'; dlerror: libcuda.so.1: cannot open shared object file: No such file or directory\n",
      "2021-09-01 13:48:15.155298: W tensorflow/stream_executor/cuda/cuda_driver.cc:269] failed call to cuInit: UNKNOWN ERROR (303)\n",
      "2021-09-01 13:48:15.155356: I tensorflow/stream_executor/cuda/cuda_diagnostics.cc:156] kernel driver does not appear to be running on this host (gabriel-gabriel): /proc/driver/nvidia/version does not exist\n",
      "2021-09-01 13:48:15.156164: I tensorflow/core/platform/cpu_feature_guard.cc:142] This TensorFlow binary is optimized with oneAPI Deep Neural Network Library (oneDNN) to use the following CPU instructions in performance-critical operations:  AVX2 FMA\n",
      "To enable them in other operations, rebuild TensorFlow with the appropriate compiler flags.\n"
     ]
    }
   ],
   "metadata": {}
  },
  {
   "cell_type": "code",
   "execution_count": 16,
   "source": [
    "# fit model\n",
    "model.fit(X_train, y_train, epochs=200, verbose=2)"
   ],
   "outputs": [
    {
     "output_type": "stream",
     "name": "stderr",
     "text": [
      "2021-09-01 13:48:15.440023: I tensorflow/compiler/mlir/mlir_graph_optimization_pass.cc:185] None of the MLIR Optimization Passes are enabled (registered 2)\n"
     ]
    },
    {
     "output_type": "stream",
     "name": "stdout",
     "text": [
      "Epoch 1/200\n",
      "2/2 - 1s - loss: 0.4915\n",
      "Epoch 2/200\n",
      "2/2 - 0s - loss: 0.4742\n",
      "Epoch 3/200\n",
      "2/2 - 0s - loss: 0.4577\n",
      "Epoch 4/200\n",
      "2/2 - 0s - loss: 0.4418\n",
      "Epoch 5/200\n",
      "2/2 - 0s - loss: 0.4268\n",
      "Epoch 6/200\n",
      "2/2 - 0s - loss: 0.4111\n",
      "Epoch 7/200\n",
      "2/2 - 0s - loss: 0.3964\n",
      "Epoch 8/200\n",
      "2/2 - 0s - loss: 0.3819\n",
      "Epoch 9/200\n",
      "2/2 - 0s - loss: 0.3667\n",
      "Epoch 10/200\n",
      "2/2 - 0s - loss: 0.3522\n",
      "Epoch 11/200\n",
      "2/2 - 0s - loss: 0.3388\n",
      "Epoch 12/200\n",
      "2/2 - 0s - loss: 0.3252\n",
      "Epoch 13/200\n",
      "2/2 - 0s - loss: 0.3102\n",
      "Epoch 14/200\n",
      "2/2 - 0s - loss: 0.2972\n",
      "Epoch 15/200\n",
      "2/2 - 0s - loss: 0.2827\n",
      "Epoch 16/200\n",
      "2/2 - 0s - loss: 0.2692\n",
      "Epoch 17/200\n",
      "2/2 - 0s - loss: 0.2565\n",
      "Epoch 18/200\n",
      "2/2 - 0s - loss: 0.2424\n",
      "Epoch 19/200\n",
      "2/2 - 0s - loss: 0.2293\n",
      "Epoch 20/200\n",
      "2/2 - 0s - loss: 0.2158\n",
      "Epoch 21/200\n",
      "2/2 - 0s - loss: 0.2035\n",
      "Epoch 22/200\n",
      "2/2 - 0s - loss: 0.1892\n",
      "Epoch 23/200\n",
      "2/2 - 0s - loss: 0.1767\n",
      "Epoch 24/200\n",
      "2/2 - 0s - loss: 0.1640\n",
      "Epoch 25/200\n",
      "2/2 - 0s - loss: 0.1519\n",
      "Epoch 26/200\n",
      "2/2 - 0s - loss: 0.1389\n",
      "Epoch 27/200\n",
      "2/2 - 0s - loss: 0.1269\n",
      "Epoch 28/200\n",
      "2/2 - 0s - loss: 0.1158\n",
      "Epoch 29/200\n",
      "2/2 - 0s - loss: 0.1048\n",
      "Epoch 30/200\n",
      "2/2 - 0s - loss: 0.0938\n",
      "Epoch 31/200\n",
      "2/2 - 0s - loss: 0.0846\n",
      "Epoch 32/200\n",
      "2/2 - 0s - loss: 0.0756\n",
      "Epoch 33/200\n",
      "2/2 - 0s - loss: 0.0685\n",
      "Epoch 34/200\n",
      "2/2 - 0s - loss: 0.0617\n",
      "Epoch 35/200\n",
      "2/2 - 0s - loss: 0.0559\n",
      "Epoch 36/200\n",
      "2/2 - 0s - loss: 0.0519\n",
      "Epoch 37/200\n",
      "2/2 - 0s - loss: 0.0479\n",
      "Epoch 38/200\n",
      "2/2 - 0s - loss: 0.0455\n",
      "Epoch 39/200\n",
      "2/2 - 0s - loss: 0.0445\n",
      "Epoch 40/200\n",
      "2/2 - 0s - loss: 0.0427\n",
      "Epoch 41/200\n",
      "2/2 - 0s - loss: 0.0419\n",
      "Epoch 42/200\n",
      "2/2 - 0s - loss: 0.0414\n",
      "Epoch 43/200\n",
      "2/2 - 0s - loss: 0.0410\n",
      "Epoch 44/200\n",
      "2/2 - 0s - loss: 0.0406\n",
      "Epoch 45/200\n",
      "2/2 - 0s - loss: 0.0402\n",
      "Epoch 46/200\n",
      "2/2 - 0s - loss: 0.0397\n",
      "Epoch 47/200\n",
      "2/2 - 0s - loss: 0.0392\n",
      "Epoch 48/200\n",
      "2/2 - 0s - loss: 0.0387\n",
      "Epoch 49/200\n",
      "2/2 - 0s - loss: 0.0384\n",
      "Epoch 50/200\n",
      "2/2 - 0s - loss: 0.0379\n",
      "Epoch 51/200\n",
      "2/2 - 0s - loss: 0.0375\n",
      "Epoch 52/200\n",
      "2/2 - 0s - loss: 0.0373\n",
      "Epoch 53/200\n",
      "2/2 - 0s - loss: 0.0370\n",
      "Epoch 54/200\n",
      "2/2 - 0s - loss: 0.0369\n",
      "Epoch 55/200\n",
      "2/2 - 0s - loss: 0.0366\n",
      "Epoch 56/200\n",
      "2/2 - 0s - loss: 0.0364\n",
      "Epoch 57/200\n",
      "2/2 - 0s - loss: 0.0361\n",
      "Epoch 58/200\n",
      "2/2 - 0s - loss: 0.0359\n",
      "Epoch 59/200\n",
      "2/2 - 0s - loss: 0.0356\n",
      "Epoch 60/200\n",
      "2/2 - 0s - loss: 0.0354\n",
      "Epoch 61/200\n",
      "2/2 - 0s - loss: 0.0352\n",
      "Epoch 62/200\n",
      "2/2 - 0s - loss: 0.0350\n",
      "Epoch 63/200\n",
      "2/2 - 0s - loss: 0.0347\n",
      "Epoch 64/200\n",
      "2/2 - 0s - loss: 0.0345\n",
      "Epoch 65/200\n",
      "2/2 - 0s - loss: 0.0342\n",
      "Epoch 66/200\n",
      "2/2 - 0s - loss: 0.0340\n",
      "Epoch 67/200\n",
      "2/2 - 0s - loss: 0.0338\n",
      "Epoch 68/200\n",
      "2/2 - 0s - loss: 0.0336\n",
      "Epoch 69/200\n",
      "2/2 - 0s - loss: 0.0334\n",
      "Epoch 70/200\n",
      "2/2 - 0s - loss: 0.0332\n",
      "Epoch 71/200\n",
      "2/2 - 0s - loss: 0.0330\n",
      "Epoch 72/200\n",
      "2/2 - 0s - loss: 0.0327\n",
      "Epoch 73/200\n",
      "2/2 - 0s - loss: 0.0325\n",
      "Epoch 74/200\n",
      "2/2 - 0s - loss: 0.0323\n",
      "Epoch 75/200\n",
      "2/2 - 0s - loss: 0.0321\n",
      "Epoch 76/200\n",
      "2/2 - 0s - loss: 0.0320\n",
      "Epoch 77/200\n",
      "2/2 - 0s - loss: 0.0316\n",
      "Epoch 78/200\n",
      "2/2 - 0s - loss: 0.0314\n",
      "Epoch 79/200\n",
      "2/2 - 0s - loss: 0.0312\n",
      "Epoch 80/200\n",
      "2/2 - 0s - loss: 0.0310\n",
      "Epoch 81/200\n",
      "2/2 - 0s - loss: 0.0308\n",
      "Epoch 82/200\n",
      "2/2 - 0s - loss: 0.0306\n",
      "Epoch 83/200\n",
      "2/2 - 0s - loss: 0.0303\n",
      "Epoch 84/200\n",
      "2/2 - 0s - loss: 0.0301\n",
      "Epoch 85/200\n",
      "2/2 - 0s - loss: 0.0299\n",
      "Epoch 86/200\n",
      "2/2 - 0s - loss: 0.0297\n",
      "Epoch 87/200\n",
      "2/2 - 0s - loss: 0.0294\n",
      "Epoch 88/200\n",
      "2/2 - 0s - loss: 0.0292\n",
      "Epoch 89/200\n",
      "2/2 - 0s - loss: 0.0290\n",
      "Epoch 90/200\n",
      "2/2 - 0s - loss: 0.0287\n",
      "Epoch 91/200\n",
      "2/2 - 0s - loss: 0.0285\n",
      "Epoch 92/200\n",
      "2/2 - 0s - loss: 0.0283\n",
      "Epoch 93/200\n",
      "2/2 - 0s - loss: 0.0280\n",
      "Epoch 94/200\n",
      "2/2 - 0s - loss: 0.0278\n",
      "Epoch 95/200\n",
      "2/2 - 0s - loss: 0.0275\n",
      "Epoch 96/200\n",
      "2/2 - 0s - loss: 0.0273\n",
      "Epoch 97/200\n",
      "2/2 - 0s - loss: 0.0271\n",
      "Epoch 98/200\n",
      "2/2 - 0s - loss: 0.0270\n",
      "Epoch 99/200\n",
      "2/2 - 0s - loss: 0.0266\n",
      "Epoch 100/200\n",
      "2/2 - 0s - loss: 0.0264\n",
      "Epoch 101/200\n",
      "2/2 - 0s - loss: 0.0260\n",
      "Epoch 102/200\n",
      "2/2 - 0s - loss: 0.0259\n",
      "Epoch 103/200\n",
      "2/2 - 0s - loss: 0.0256\n",
      "Epoch 104/200\n",
      "2/2 - 0s - loss: 0.0253\n",
      "Epoch 105/200\n",
      "2/2 - 0s - loss: 0.0250\n",
      "Epoch 106/200\n",
      "2/2 - 0s - loss: 0.0248\n",
      "Epoch 107/200\n",
      "2/2 - 0s - loss: 0.0245\n",
      "Epoch 108/200\n",
      "2/2 - 0s - loss: 0.0242\n",
      "Epoch 109/200\n",
      "2/2 - 0s - loss: 0.0239\n",
      "Epoch 110/200\n",
      "2/2 - 0s - loss: 0.0236\n",
      "Epoch 111/200\n",
      "2/2 - 0s - loss: 0.0234\n",
      "Epoch 112/200\n",
      "2/2 - 0s - loss: 0.0231\n",
      "Epoch 113/200\n",
      "2/2 - 0s - loss: 0.0228\n",
      "Epoch 114/200\n",
      "2/2 - 0s - loss: 0.0225\n",
      "Epoch 115/200\n",
      "2/2 - 0s - loss: 0.0222\n",
      "Epoch 116/200\n",
      "2/2 - 0s - loss: 0.0219\n",
      "Epoch 117/200\n",
      "2/2 - 0s - loss: 0.0216\n",
      "Epoch 118/200\n",
      "2/2 - 0s - loss: 0.0212\n",
      "Epoch 119/200\n",
      "2/2 - 0s - loss: 0.0209\n",
      "Epoch 120/200\n",
      "2/2 - 0s - loss: 0.0206\n",
      "Epoch 121/200\n",
      "2/2 - 0s - loss: 0.0203\n",
      "Epoch 122/200\n",
      "2/2 - 0s - loss: 0.0200\n",
      "Epoch 123/200\n",
      "2/2 - 0s - loss: 0.0196\n",
      "Epoch 124/200\n",
      "2/2 - 0s - loss: 0.0193\n",
      "Epoch 125/200\n",
      "2/2 - 0s - loss: 0.0190\n",
      "Epoch 126/200\n",
      "2/2 - 0s - loss: 0.0186\n",
      "Epoch 127/200\n",
      "2/2 - 0s - loss: 0.0183\n",
      "Epoch 128/200\n",
      "2/2 - 0s - loss: 0.0179\n",
      "Epoch 129/200\n",
      "2/2 - 0s - loss: 0.0176\n",
      "Epoch 130/200\n",
      "2/2 - 0s - loss: 0.0172\n",
      "Epoch 131/200\n",
      "2/2 - 0s - loss: 0.0169\n",
      "Epoch 132/200\n",
      "2/2 - 0s - loss: 0.0166\n",
      "Epoch 133/200\n",
      "2/2 - 0s - loss: 0.0162\n",
      "Epoch 134/200\n",
      "2/2 - 0s - loss: 0.0158\n",
      "Epoch 135/200\n",
      "2/2 - 0s - loss: 0.0154\n",
      "Epoch 136/200\n",
      "2/2 - 0s - loss: 0.0151\n",
      "Epoch 137/200\n",
      "2/2 - 0s - loss: 0.0147\n",
      "Epoch 138/200\n",
      "2/2 - 0s - loss: 0.0143\n",
      "Epoch 139/200\n",
      "2/2 - 0s - loss: 0.0139\n",
      "Epoch 140/200\n",
      "2/2 - 0s - loss: 0.0136\n",
      "Epoch 141/200\n",
      "2/2 - 0s - loss: 0.0132\n",
      "Epoch 142/200\n",
      "2/2 - 0s - loss: 0.0128\n",
      "Epoch 143/200\n",
      "2/2 - 0s - loss: 0.0125\n",
      "Epoch 144/200\n",
      "2/2 - 0s - loss: 0.0121\n",
      "Epoch 145/200\n",
      "2/2 - 0s - loss: 0.0117\n",
      "Epoch 146/200\n",
      "2/2 - 0s - loss: 0.0114\n",
      "Epoch 147/200\n",
      "2/2 - 0s - loss: 0.0110\n",
      "Epoch 148/200\n",
      "2/2 - 0s - loss: 0.0106\n",
      "Epoch 149/200\n",
      "2/2 - 0s - loss: 0.0102\n",
      "Epoch 150/200\n",
      "2/2 - 0s - loss: 0.0098\n",
      "Epoch 151/200\n",
      "2/2 - 0s - loss: 0.0094\n",
      "Epoch 152/200\n",
      "2/2 - 0s - loss: 0.0091\n",
      "Epoch 153/200\n",
      "2/2 - 0s - loss: 0.0088\n",
      "Epoch 154/200\n",
      "2/2 - 0s - loss: 0.0084\n",
      "Epoch 155/200\n",
      "2/2 - 0s - loss: 0.0081\n",
      "Epoch 156/200\n",
      "2/2 - 0s - loss: 0.0077\n",
      "Epoch 157/200\n",
      "2/2 - 0s - loss: 0.0074\n",
      "Epoch 158/200\n",
      "2/2 - 0s - loss: 0.0071\n",
      "Epoch 159/200\n",
      "2/2 - 0s - loss: 0.0068\n",
      "Epoch 160/200\n",
      "2/2 - 0s - loss: 0.0065\n",
      "Epoch 161/200\n",
      "2/2 - 0s - loss: 0.0061\n",
      "Epoch 162/200\n",
      "2/2 - 0s - loss: 0.0059\n",
      "Epoch 163/200\n",
      "2/2 - 0s - loss: 0.0055\n",
      "Epoch 164/200\n",
      "2/2 - 0s - loss: 0.0053\n",
      "Epoch 165/200\n",
      "2/2 - 0s - loss: 0.0050\n",
      "Epoch 166/200\n",
      "2/2 - 0s - loss: 0.0047\n",
      "Epoch 167/200\n",
      "2/2 - 0s - loss: 0.0045\n",
      "Epoch 168/200\n",
      "2/2 - 0s - loss: 0.0043\n",
      "Epoch 169/200\n",
      "2/2 - 0s - loss: 0.0041\n",
      "Epoch 170/200\n",
      "2/2 - 0s - loss: 0.0038\n",
      "Epoch 171/200\n",
      "2/2 - 0s - loss: 0.0036\n",
      "Epoch 172/200\n",
      "2/2 - 0s - loss: 0.0037\n",
      "Epoch 173/200\n",
      "2/2 - 0s - loss: 0.0032\n",
      "Epoch 174/200\n",
      "2/2 - 0s - loss: 0.0032\n",
      "Epoch 175/200\n",
      "2/2 - 0s - loss: 0.0030\n",
      "Epoch 176/200\n",
      "2/2 - 0s - loss: 0.0028\n",
      "Epoch 177/200\n",
      "2/2 - 0s - loss: 0.0027\n",
      "Epoch 178/200\n",
      "2/2 - 0s - loss: 0.0027\n",
      "Epoch 179/200\n",
      "2/2 - 0s - loss: 0.0025\n",
      "Epoch 180/200\n",
      "2/2 - 0s - loss: 0.0024\n",
      "Epoch 181/200\n",
      "2/2 - 0s - loss: 0.0023\n",
      "Epoch 182/200\n",
      "2/2 - 0s - loss: 0.0022\n",
      "Epoch 183/200\n",
      "2/2 - 0s - loss: 0.0022\n",
      "Epoch 184/200\n",
      "2/2 - 0s - loss: 0.0021\n",
      "Epoch 185/200\n",
      "2/2 - 0s - loss: 0.0019\n",
      "Epoch 186/200\n",
      "2/2 - 0s - loss: 0.0019\n",
      "Epoch 187/200\n",
      "2/2 - 0s - loss: 0.0018\n",
      "Epoch 188/200\n",
      "2/2 - 0s - loss: 0.0017\n",
      "Epoch 189/200\n",
      "2/2 - 0s - loss: 0.0016\n",
      "Epoch 190/200\n",
      "2/2 - 0s - loss: 0.0016\n",
      "Epoch 191/200\n",
      "2/2 - 0s - loss: 0.0015\n",
      "Epoch 192/200\n",
      "2/2 - 0s - loss: 0.0013\n",
      "Epoch 193/200\n",
      "2/2 - 0s - loss: 0.0013\n",
      "Epoch 194/200\n",
      "2/2 - 0s - loss: 0.0013\n",
      "Epoch 195/200\n",
      "2/2 - 0s - loss: 0.0012\n",
      "Epoch 196/200\n",
      "2/2 - 0s - loss: 0.0012\n",
      "Epoch 197/200\n",
      "2/2 - 0s - loss: 0.0011\n",
      "Epoch 198/200\n",
      "2/2 - 0s - loss: 0.0011\n",
      "Epoch 199/200\n",
      "2/2 - 0s - loss: 0.0011\n",
      "Epoch 200/200\n",
      "2/2 - 0s - loss: 0.0012\n"
     ]
    },
    {
     "output_type": "execute_result",
     "data": {
      "text/plain": [
       "<keras.callbacks.History at 0x7f39542167f0>"
      ]
     },
     "metadata": {},
     "execution_count": 16
    }
   ],
   "metadata": {}
  },
  {
   "cell_type": "code",
   "execution_count": 17,
   "source": [
    "# model prediction\n",
    "yhat = model.predict(X_test, verbose=0)"
   ],
   "outputs": [],
   "metadata": {}
  },
  {
   "cell_type": "code",
   "execution_count": 18,
   "source": [
    "#model evaluation\n",
    "mean_squared_error(y_test,yhat)"
   ],
   "outputs": [
    {
     "output_type": "execute_result",
     "data": {
      "text/plain": [
       "0.0013079556327948196"
      ]
     },
     "metadata": {},
     "execution_count": 18
    }
   ],
   "metadata": {}
  },
  {
   "cell_type": "code",
   "execution_count": 19,
   "source": [
    "plt.plot(y_test, label='test')\n",
    "plt.plot(yhat, label='predict')\n",
    "plt.legend()"
   ],
   "outputs": [
    {
     "output_type": "execute_result",
     "data": {
      "text/plain": [
       "<matplotlib.legend.Legend at 0x7f38a0586490>"
      ]
     },
     "metadata": {},
     "execution_count": 19
    },
    {
     "output_type": "display_data",
     "data": {
      "text/plain": [
       "<Figure size 432x288 with 1 Axes>"
      ],
      "image/svg+xml": "<?xml version=\"1.0\" encoding=\"utf-8\" standalone=\"no\"?>\n<!DOCTYPE svg PUBLIC \"-//W3C//DTD SVG 1.1//EN\"\n  \"http://www.w3.org/Graphics/SVG/1.1/DTD/svg11.dtd\">\n<svg height=\"248.518125pt\" version=\"1.1\" viewBox=\"0 0 380.482812 248.518125\" width=\"380.482812pt\" xmlns=\"http://www.w3.org/2000/svg\" xmlns:xlink=\"http://www.w3.org/1999/xlink\">\n <metadata>\n  <rdf:RDF xmlns:cc=\"http://creativecommons.org/ns#\" xmlns:dc=\"http://purl.org/dc/elements/1.1/\" xmlns:rdf=\"http://www.w3.org/1999/02/22-rdf-syntax-ns#\">\n   <cc:Work>\n    <dc:type rdf:resource=\"http://purl.org/dc/dcmitype/StillImage\"/>\n    <dc:date>2021-09-01T13:48:24.123316</dc:date>\n    <dc:format>image/svg+xml</dc:format>\n    <dc:creator>\n     <cc:Agent>\n      <dc:title>Matplotlib v3.4.3, https://matplotlib.org/</dc:title>\n     </cc:Agent>\n    </dc:creator>\n   </cc:Work>\n  </rdf:RDF>\n </metadata>\n <defs>\n  <style type=\"text/css\">*{stroke-linecap:butt;stroke-linejoin:round;}</style>\n </defs>\n <g id=\"figure_1\">\n  <g id=\"patch_1\">\n   <path d=\"M -0 248.518125 \nL 380.482812 248.518125 \nL 380.482812 0 \nL -0 0 \nz\n\" style=\"fill:none;\"/>\n  </g>\n  <g id=\"axes_1\">\n   <g id=\"patch_2\">\n    <path d=\"M 38.482813 224.64 \nL 373.282813 224.64 \nL 373.282813 7.2 \nL 38.482813 7.2 \nz\n\" style=\"fill:#ffffff;\"/>\n   </g>\n   <g id=\"matplotlib.axis_1\">\n    <g id=\"xtick_1\">\n     <g id=\"line2d_1\">\n      <defs>\n       <path d=\"M 0 0 \nL 0 3.5 \n\" id=\"m997fc7c0b4\" style=\"stroke:#000000;stroke-width:0.8;\"/>\n      </defs>\n      <g>\n       <use style=\"stroke:#000000;stroke-width:0.8;\" x=\"53.700994\" xlink:href=\"#m997fc7c0b4\" y=\"224.64\"/>\n      </g>\n     </g>\n     <g id=\"text_1\">\n      <!-- 0 -->\n      <g transform=\"translate(50.519744 239.238437)scale(0.1 -0.1)\">\n       <defs>\n        <path d=\"M 2034 4250 \nQ 1547 4250 1301 3770 \nQ 1056 3291 1056 2328 \nQ 1056 1369 1301 889 \nQ 1547 409 2034 409 \nQ 2525 409 2770 889 \nQ 3016 1369 3016 2328 \nQ 3016 3291 2770 3770 \nQ 2525 4250 2034 4250 \nz\nM 2034 4750 \nQ 2819 4750 3233 4129 \nQ 3647 3509 3647 2328 \nQ 3647 1150 3233 529 \nQ 2819 -91 2034 -91 \nQ 1250 -91 836 529 \nQ 422 1150 422 2328 \nQ 422 3509 836 4129 \nQ 1250 4750 2034 4750 \nz\n\" id=\"DejaVuSans-30\" transform=\"scale(0.015625)\"/>\n       </defs>\n       <use xlink:href=\"#DejaVuSans-30\"/>\n      </g>\n     </g>\n    </g>\n    <g id=\"xtick_2\">\n     <g id=\"line2d_2\">\n      <g>\n       <use style=\"stroke:#000000;stroke-width:0.8;\" x=\"95.973722\" xlink:href=\"#m997fc7c0b4\" y=\"224.64\"/>\n      </g>\n     </g>\n     <g id=\"text_2\">\n      <!-- 5 -->\n      <g transform=\"translate(92.792472 239.238437)scale(0.1 -0.1)\">\n       <defs>\n        <path d=\"M 691 4666 \nL 3169 4666 \nL 3169 4134 \nL 1269 4134 \nL 1269 2991 \nQ 1406 3038 1543 3061 \nQ 1681 3084 1819 3084 \nQ 2600 3084 3056 2656 \nQ 3513 2228 3513 1497 \nQ 3513 744 3044 326 \nQ 2575 -91 1722 -91 \nQ 1428 -91 1123 -41 \nQ 819 9 494 109 \nL 494 744 \nQ 775 591 1075 516 \nQ 1375 441 1709 441 \nQ 2250 441 2565 725 \nQ 2881 1009 2881 1497 \nQ 2881 1984 2565 2268 \nQ 2250 2553 1709 2553 \nQ 1456 2553 1204 2497 \nQ 953 2441 691 2322 \nL 691 4666 \nz\n\" id=\"DejaVuSans-35\" transform=\"scale(0.015625)\"/>\n       </defs>\n       <use xlink:href=\"#DejaVuSans-35\"/>\n      </g>\n     </g>\n    </g>\n    <g id=\"xtick_3\">\n     <g id=\"line2d_3\">\n      <g>\n       <use style=\"stroke:#000000;stroke-width:0.8;\" x=\"138.246449\" xlink:href=\"#m997fc7c0b4\" y=\"224.64\"/>\n      </g>\n     </g>\n     <g id=\"text_3\">\n      <!-- 10 -->\n      <g transform=\"translate(131.883949 239.238437)scale(0.1 -0.1)\">\n       <defs>\n        <path d=\"M 794 531 \nL 1825 531 \nL 1825 4091 \nL 703 3866 \nL 703 4441 \nL 1819 4666 \nL 2450 4666 \nL 2450 531 \nL 3481 531 \nL 3481 0 \nL 794 0 \nL 794 531 \nz\n\" id=\"DejaVuSans-31\" transform=\"scale(0.015625)\"/>\n       </defs>\n       <use xlink:href=\"#DejaVuSans-31\"/>\n       <use x=\"63.623047\" xlink:href=\"#DejaVuSans-30\"/>\n      </g>\n     </g>\n    </g>\n    <g id=\"xtick_4\">\n     <g id=\"line2d_4\">\n      <g>\n       <use style=\"stroke:#000000;stroke-width:0.8;\" x=\"180.519176\" xlink:href=\"#m997fc7c0b4\" y=\"224.64\"/>\n      </g>\n     </g>\n     <g id=\"text_4\">\n      <!-- 15 -->\n      <g transform=\"translate(174.156676 239.238437)scale(0.1 -0.1)\">\n       <use xlink:href=\"#DejaVuSans-31\"/>\n       <use x=\"63.623047\" xlink:href=\"#DejaVuSans-35\"/>\n      </g>\n     </g>\n    </g>\n    <g id=\"xtick_5\">\n     <g id=\"line2d_5\">\n      <g>\n       <use style=\"stroke:#000000;stroke-width:0.8;\" x=\"222.791903\" xlink:href=\"#m997fc7c0b4\" y=\"224.64\"/>\n      </g>\n     </g>\n     <g id=\"text_5\">\n      <!-- 20 -->\n      <g transform=\"translate(216.429403 239.238437)scale(0.1 -0.1)\">\n       <defs>\n        <path d=\"M 1228 531 \nL 3431 531 \nL 3431 0 \nL 469 0 \nL 469 531 \nQ 828 903 1448 1529 \nQ 2069 2156 2228 2338 \nQ 2531 2678 2651 2914 \nQ 2772 3150 2772 3378 \nQ 2772 3750 2511 3984 \nQ 2250 4219 1831 4219 \nQ 1534 4219 1204 4116 \nQ 875 4013 500 3803 \nL 500 4441 \nQ 881 4594 1212 4672 \nQ 1544 4750 1819 4750 \nQ 2544 4750 2975 4387 \nQ 3406 4025 3406 3419 \nQ 3406 3131 3298 2873 \nQ 3191 2616 2906 2266 \nQ 2828 2175 2409 1742 \nQ 1991 1309 1228 531 \nz\n\" id=\"DejaVuSans-32\" transform=\"scale(0.015625)\"/>\n       </defs>\n       <use xlink:href=\"#DejaVuSans-32\"/>\n       <use x=\"63.623047\" xlink:href=\"#DejaVuSans-30\"/>\n      </g>\n     </g>\n    </g>\n    <g id=\"xtick_6\">\n     <g id=\"line2d_6\">\n      <g>\n       <use style=\"stroke:#000000;stroke-width:0.8;\" x=\"265.064631\" xlink:href=\"#m997fc7c0b4\" y=\"224.64\"/>\n      </g>\n     </g>\n     <g id=\"text_6\">\n      <!-- 25 -->\n      <g transform=\"translate(258.702131 239.238437)scale(0.1 -0.1)\">\n       <use xlink:href=\"#DejaVuSans-32\"/>\n       <use x=\"63.623047\" xlink:href=\"#DejaVuSans-35\"/>\n      </g>\n     </g>\n    </g>\n    <g id=\"xtick_7\">\n     <g id=\"line2d_7\">\n      <g>\n       <use style=\"stroke:#000000;stroke-width:0.8;\" x=\"307.337358\" xlink:href=\"#m997fc7c0b4\" y=\"224.64\"/>\n      </g>\n     </g>\n     <g id=\"text_7\">\n      <!-- 30 -->\n      <g transform=\"translate(300.974858 239.238437)scale(0.1 -0.1)\">\n       <defs>\n        <path d=\"M 2597 2516 \nQ 3050 2419 3304 2112 \nQ 3559 1806 3559 1356 \nQ 3559 666 3084 287 \nQ 2609 -91 1734 -91 \nQ 1441 -91 1130 -33 \nQ 819 25 488 141 \nL 488 750 \nQ 750 597 1062 519 \nQ 1375 441 1716 441 \nQ 2309 441 2620 675 \nQ 2931 909 2931 1356 \nQ 2931 1769 2642 2001 \nQ 2353 2234 1838 2234 \nL 1294 2234 \nL 1294 2753 \nL 1863 2753 \nQ 2328 2753 2575 2939 \nQ 2822 3125 2822 3475 \nQ 2822 3834 2567 4026 \nQ 2313 4219 1838 4219 \nQ 1578 4219 1281 4162 \nQ 984 4106 628 3988 \nL 628 4550 \nQ 988 4650 1302 4700 \nQ 1616 4750 1894 4750 \nQ 2613 4750 3031 4423 \nQ 3450 4097 3450 3541 \nQ 3450 3153 3228 2886 \nQ 3006 2619 2597 2516 \nz\n\" id=\"DejaVuSans-33\" transform=\"scale(0.015625)\"/>\n       </defs>\n       <use xlink:href=\"#DejaVuSans-33\"/>\n       <use x=\"63.623047\" xlink:href=\"#DejaVuSans-30\"/>\n      </g>\n     </g>\n    </g>\n    <g id=\"xtick_8\">\n     <g id=\"line2d_8\">\n      <g>\n       <use style=\"stroke:#000000;stroke-width:0.8;\" x=\"349.610085\" xlink:href=\"#m997fc7c0b4\" y=\"224.64\"/>\n      </g>\n     </g>\n     <g id=\"text_8\">\n      <!-- 35 -->\n      <g transform=\"translate(343.247585 239.238437)scale(0.1 -0.1)\">\n       <use xlink:href=\"#DejaVuSans-33\"/>\n       <use x=\"63.623047\" xlink:href=\"#DejaVuSans-35\"/>\n      </g>\n     </g>\n    </g>\n   </g>\n   <g id=\"matplotlib.axis_2\">\n    <g id=\"ytick_1\">\n     <g id=\"line2d_9\">\n      <defs>\n       <path d=\"M 0 0 \nL -3.5 0 \n\" id=\"m06ac789c93\" style=\"stroke:#000000;stroke-width:0.8;\"/>\n      </defs>\n      <g>\n       <use style=\"stroke:#000000;stroke-width:0.8;\" x=\"38.482813\" xlink:href=\"#m06ac789c93\" y=\"214.756364\"/>\n      </g>\n     </g>\n     <g id=\"text_9\">\n      <!-- −1.0 -->\n      <g transform=\"translate(7.2 218.555582)scale(0.1 -0.1)\">\n       <defs>\n        <path d=\"M 678 2272 \nL 4684 2272 \nL 4684 1741 \nL 678 1741 \nL 678 2272 \nz\n\" id=\"DejaVuSans-2212\" transform=\"scale(0.015625)\"/>\n        <path d=\"M 684 794 \nL 1344 794 \nL 1344 0 \nL 684 0 \nL 684 794 \nz\n\" id=\"DejaVuSans-2e\" transform=\"scale(0.015625)\"/>\n       </defs>\n       <use xlink:href=\"#DejaVuSans-2212\"/>\n       <use x=\"83.789062\" xlink:href=\"#DejaVuSans-31\"/>\n       <use x=\"147.412109\" xlink:href=\"#DejaVuSans-2e\"/>\n       <use x=\"179.199219\" xlink:href=\"#DejaVuSans-30\"/>\n      </g>\n     </g>\n    </g>\n    <g id=\"ytick_2\">\n     <g id=\"line2d_10\">\n      <g>\n       <use style=\"stroke:#000000;stroke-width:0.8;\" x=\"38.482813\" xlink:href=\"#m06ac789c93\" y=\"166.436475\"/>\n      </g>\n     </g>\n     <g id=\"text_10\">\n      <!-- −0.5 -->\n      <g transform=\"translate(7.2 170.235694)scale(0.1 -0.1)\">\n       <use xlink:href=\"#DejaVuSans-2212\"/>\n       <use x=\"83.789062\" xlink:href=\"#DejaVuSans-30\"/>\n       <use x=\"147.412109\" xlink:href=\"#DejaVuSans-2e\"/>\n       <use x=\"179.199219\" xlink:href=\"#DejaVuSans-35\"/>\n      </g>\n     </g>\n    </g>\n    <g id=\"ytick_3\">\n     <g id=\"line2d_11\">\n      <g>\n       <use style=\"stroke:#000000;stroke-width:0.8;\" x=\"38.482813\" xlink:href=\"#m06ac789c93\" y=\"118.116587\"/>\n      </g>\n     </g>\n     <g id=\"text_11\">\n      <!-- 0.0 -->\n      <g transform=\"translate(15.579688 121.915806)scale(0.1 -0.1)\">\n       <use xlink:href=\"#DejaVuSans-30\"/>\n       <use x=\"63.623047\" xlink:href=\"#DejaVuSans-2e\"/>\n       <use x=\"95.410156\" xlink:href=\"#DejaVuSans-30\"/>\n      </g>\n     </g>\n    </g>\n    <g id=\"ytick_4\">\n     <g id=\"line2d_12\">\n      <g>\n       <use style=\"stroke:#000000;stroke-width:0.8;\" x=\"38.482813\" xlink:href=\"#m06ac789c93\" y=\"69.796698\"/>\n      </g>\n     </g>\n     <g id=\"text_12\">\n      <!-- 0.5 -->\n      <g transform=\"translate(15.579688 73.595917)scale(0.1 -0.1)\">\n       <use xlink:href=\"#DejaVuSans-30\"/>\n       <use x=\"63.623047\" xlink:href=\"#DejaVuSans-2e\"/>\n       <use x=\"95.410156\" xlink:href=\"#DejaVuSans-35\"/>\n      </g>\n     </g>\n    </g>\n    <g id=\"ytick_5\">\n     <g id=\"line2d_13\">\n      <g>\n       <use style=\"stroke:#000000;stroke-width:0.8;\" x=\"38.482813\" xlink:href=\"#m06ac789c93\" y=\"21.47681\"/>\n      </g>\n     </g>\n     <g id=\"text_13\">\n      <!-- 1.0 -->\n      <g transform=\"translate(15.579688 25.276029)scale(0.1 -0.1)\">\n       <use xlink:href=\"#DejaVuSans-31\"/>\n       <use x=\"63.623047\" xlink:href=\"#DejaVuSans-2e\"/>\n       <use x=\"95.410156\" xlink:href=\"#DejaVuSans-30\"/>\n      </g>\n     </g>\n    </g>\n   </g>\n   <g id=\"line2d_14\">\n    <path clip-path=\"url(#p7d2d23ad26)\" d=\"M 53.700994 199.41514 \nL 62.15554 190.138777 \nL 70.610085 179.053056 \nL 79.064631 166.436475 \nL 87.519176 152.605992 \nL 95.973722 137.909058 \nL 104.428267 122.714893 \nL 112.882813 107.405208 \nL 121.337358 92.364617 \nL 129.791903 77.970973 \nL 138.246449 64.585876 \nL 146.700994 52.545589 \nL 155.15554 42.152591 \nL 163.610085 33.667978 \nL 172.064631 27.304902 \nL 180.519176 23.223217 \nL 188.973722 21.525464 \nL 197.428267 22.254295 \nL 205.882812 25.3914 \nL 214.337358 30.857968 \nL 222.791903 38.516666 \nL 231.246449 48.175091 \nL 239.700994 59.590602 \nL 248.15554 72.476416 \nL 256.610085 86.508812 \nL 265.064631 101.335266 \nL 273.519176 116.583304 \nL 281.973722 131.869861 \nL 290.428267 146.810906 \nL 298.882812 161.031085 \nL 307.337358 174.173157 \nL 315.791903 185.906963 \nL 324.246449 195.937725 \nL 332.700994 204.013446 \nL 341.15554 209.931248 \nL 349.610085 213.542461 \nL 358.064631 214.756364 \n\" style=\"fill:none;stroke:#1f77b4;stroke-linecap:square;stroke-width:1.5;\"/>\n   </g>\n   <g id=\"line2d_15\">\n    <path clip-path=\"url(#p7d2d23ad26)\" d=\"M 53.700994 201.829242 \nL 62.15554 192.886961 \nL 70.610085 181.958212 \nL 79.064631 169.64777 \nL 87.519176 156.441976 \nL 95.973722 142.625621 \nL 104.428267 128.485531 \nL 112.882813 114.185036 \nL 121.337358 99.620574 \nL 129.791903 84.192703 \nL 138.246449 68.260136 \nL 146.700994 54.039468 \nL 155.15554 41.62957 \nL 163.610085 31.149142 \nL 172.064631 23.442373 \nL 180.519176 18.690922 \nL 188.973722 17.083636 \nL 197.428267 18.610407 \nL 205.882812 23.037853 \nL 214.337358 30.094534 \nL 222.791903 39.414977 \nL 231.246449 50.553183 \nL 239.700994 63.029997 \nL 248.15554 76.382991 \nL 256.610085 90.158755 \nL 265.064631 103.984917 \nL 273.519176 117.721269 \nL 281.973722 131.609193 \nL 290.428267 145.798195 \nL 298.882812 159.449274 \nL 307.337358 171.994202 \nL 315.791903 182.664468 \nL 324.246449 192.045669 \nL 332.700994 200.308992 \nL 341.15554 207.080129 \nL 349.610085 211.66961 \nL 358.064631 213.88914 \n\" style=\"fill:none;stroke:#ff7f0e;stroke-linecap:square;stroke-width:1.5;\"/>\n   </g>\n   <g id=\"patch_3\">\n    <path d=\"M 38.482813 224.64 \nL 38.482813 7.2 \n\" style=\"fill:none;stroke:#000000;stroke-linecap:square;stroke-linejoin:miter;stroke-width:0.8;\"/>\n   </g>\n   <g id=\"patch_4\">\n    <path d=\"M 373.282813 224.64 \nL 373.282813 7.2 \n\" style=\"fill:none;stroke:#000000;stroke-linecap:square;stroke-linejoin:miter;stroke-width:0.8;\"/>\n   </g>\n   <g id=\"patch_5\">\n    <path d=\"M 38.482813 224.64 \nL 373.282812 224.64 \n\" style=\"fill:none;stroke:#000000;stroke-linecap:square;stroke-linejoin:miter;stroke-width:0.8;\"/>\n   </g>\n   <g id=\"patch_6\">\n    <path d=\"M 38.482813 7.2 \nL 373.282812 7.2 \n\" style=\"fill:none;stroke:#000000;stroke-linecap:square;stroke-linejoin:miter;stroke-width:0.8;\"/>\n   </g>\n   <g id=\"legend_1\">\n    <g id=\"patch_7\">\n     <path d=\"M 299.35 44.55625 \nL 366.282813 44.55625 \nQ 368.282813 44.55625 368.282813 42.55625 \nL 368.282813 14.2 \nQ 368.282813 12.2 366.282813 12.2 \nL 299.35 12.2 \nQ 297.35 12.2 297.35 14.2 \nL 297.35 42.55625 \nQ 297.35 44.55625 299.35 44.55625 \nz\n\" style=\"fill:#ffffff;opacity:0.8;stroke:#cccccc;stroke-linejoin:miter;\"/>\n    </g>\n    <g id=\"line2d_16\">\n     <path d=\"M 301.35 20.298437 \nL 321.35 20.298437 \n\" style=\"fill:none;stroke:#1f77b4;stroke-linecap:square;stroke-width:1.5;\"/>\n    </g>\n    <g id=\"line2d_17\"/>\n    <g id=\"text_14\">\n     <!-- test -->\n     <g transform=\"translate(329.35 23.798437)scale(0.1 -0.1)\">\n      <defs>\n       <path d=\"M 1172 4494 \nL 1172 3500 \nL 2356 3500 \nL 2356 3053 \nL 1172 3053 \nL 1172 1153 \nQ 1172 725 1289 603 \nQ 1406 481 1766 481 \nL 2356 481 \nL 2356 0 \nL 1766 0 \nQ 1100 0 847 248 \nQ 594 497 594 1153 \nL 594 3053 \nL 172 3053 \nL 172 3500 \nL 594 3500 \nL 594 4494 \nL 1172 4494 \nz\n\" id=\"DejaVuSans-74\" transform=\"scale(0.015625)\"/>\n       <path d=\"M 3597 1894 \nL 3597 1613 \nL 953 1613 \nQ 991 1019 1311 708 \nQ 1631 397 2203 397 \nQ 2534 397 2845 478 \nQ 3156 559 3463 722 \nL 3463 178 \nQ 3153 47 2828 -22 \nQ 2503 -91 2169 -91 \nQ 1331 -91 842 396 \nQ 353 884 353 1716 \nQ 353 2575 817 3079 \nQ 1281 3584 2069 3584 \nQ 2775 3584 3186 3129 \nQ 3597 2675 3597 1894 \nz\nM 3022 2063 \nQ 3016 2534 2758 2815 \nQ 2500 3097 2075 3097 \nQ 1594 3097 1305 2825 \nQ 1016 2553 972 2059 \nL 3022 2063 \nz\n\" id=\"DejaVuSans-65\" transform=\"scale(0.015625)\"/>\n       <path d=\"M 2834 3397 \nL 2834 2853 \nQ 2591 2978 2328 3040 \nQ 2066 3103 1784 3103 \nQ 1356 3103 1142 2972 \nQ 928 2841 928 2578 \nQ 928 2378 1081 2264 \nQ 1234 2150 1697 2047 \nL 1894 2003 \nQ 2506 1872 2764 1633 \nQ 3022 1394 3022 966 \nQ 3022 478 2636 193 \nQ 2250 -91 1575 -91 \nQ 1294 -91 989 -36 \nQ 684 19 347 128 \nL 347 722 \nQ 666 556 975 473 \nQ 1284 391 1588 391 \nQ 1994 391 2212 530 \nQ 2431 669 2431 922 \nQ 2431 1156 2273 1281 \nQ 2116 1406 1581 1522 \nL 1381 1569 \nQ 847 1681 609 1914 \nQ 372 2147 372 2553 \nQ 372 3047 722 3315 \nQ 1072 3584 1716 3584 \nQ 2034 3584 2315 3537 \nQ 2597 3491 2834 3397 \nz\n\" id=\"DejaVuSans-73\" transform=\"scale(0.015625)\"/>\n      </defs>\n      <use xlink:href=\"#DejaVuSans-74\"/>\n      <use x=\"39.208984\" xlink:href=\"#DejaVuSans-65\"/>\n      <use x=\"100.732422\" xlink:href=\"#DejaVuSans-73\"/>\n      <use x=\"152.832031\" xlink:href=\"#DejaVuSans-74\"/>\n     </g>\n    </g>\n    <g id=\"line2d_18\">\n     <path d=\"M 301.35 34.976562 \nL 321.35 34.976562 \n\" style=\"fill:none;stroke:#ff7f0e;stroke-linecap:square;stroke-width:1.5;\"/>\n    </g>\n    <g id=\"line2d_19\"/>\n    <g id=\"text_15\">\n     <!-- predict -->\n     <g transform=\"translate(329.35 38.476562)scale(0.1 -0.1)\">\n      <defs>\n       <path d=\"M 1159 525 \nL 1159 -1331 \nL 581 -1331 \nL 581 3500 \nL 1159 3500 \nL 1159 2969 \nQ 1341 3281 1617 3432 \nQ 1894 3584 2278 3584 \nQ 2916 3584 3314 3078 \nQ 3713 2572 3713 1747 \nQ 3713 922 3314 415 \nQ 2916 -91 2278 -91 \nQ 1894 -91 1617 61 \nQ 1341 213 1159 525 \nz\nM 3116 1747 \nQ 3116 2381 2855 2742 \nQ 2594 3103 2138 3103 \nQ 1681 3103 1420 2742 \nQ 1159 2381 1159 1747 \nQ 1159 1113 1420 752 \nQ 1681 391 2138 391 \nQ 2594 391 2855 752 \nQ 3116 1113 3116 1747 \nz\n\" id=\"DejaVuSans-70\" transform=\"scale(0.015625)\"/>\n       <path d=\"M 2631 2963 \nQ 2534 3019 2420 3045 \nQ 2306 3072 2169 3072 \nQ 1681 3072 1420 2755 \nQ 1159 2438 1159 1844 \nL 1159 0 \nL 581 0 \nL 581 3500 \nL 1159 3500 \nL 1159 2956 \nQ 1341 3275 1631 3429 \nQ 1922 3584 2338 3584 \nQ 2397 3584 2469 3576 \nQ 2541 3569 2628 3553 \nL 2631 2963 \nz\n\" id=\"DejaVuSans-72\" transform=\"scale(0.015625)\"/>\n       <path d=\"M 2906 2969 \nL 2906 4863 \nL 3481 4863 \nL 3481 0 \nL 2906 0 \nL 2906 525 \nQ 2725 213 2448 61 \nQ 2172 -91 1784 -91 \nQ 1150 -91 751 415 \nQ 353 922 353 1747 \nQ 353 2572 751 3078 \nQ 1150 3584 1784 3584 \nQ 2172 3584 2448 3432 \nQ 2725 3281 2906 2969 \nz\nM 947 1747 \nQ 947 1113 1208 752 \nQ 1469 391 1925 391 \nQ 2381 391 2643 752 \nQ 2906 1113 2906 1747 \nQ 2906 2381 2643 2742 \nQ 2381 3103 1925 3103 \nQ 1469 3103 1208 2742 \nQ 947 2381 947 1747 \nz\n\" id=\"DejaVuSans-64\" transform=\"scale(0.015625)\"/>\n       <path d=\"M 603 3500 \nL 1178 3500 \nL 1178 0 \nL 603 0 \nL 603 3500 \nz\nM 603 4863 \nL 1178 4863 \nL 1178 4134 \nL 603 4134 \nL 603 4863 \nz\n\" id=\"DejaVuSans-69\" transform=\"scale(0.015625)\"/>\n       <path d=\"M 3122 3366 \nL 3122 2828 \nQ 2878 2963 2633 3030 \nQ 2388 3097 2138 3097 \nQ 1578 3097 1268 2742 \nQ 959 2388 959 1747 \nQ 959 1106 1268 751 \nQ 1578 397 2138 397 \nQ 2388 397 2633 464 \nQ 2878 531 3122 666 \nL 3122 134 \nQ 2881 22 2623 -34 \nQ 2366 -91 2075 -91 \nQ 1284 -91 818 406 \nQ 353 903 353 1747 \nQ 353 2603 823 3093 \nQ 1294 3584 2113 3584 \nQ 2378 3584 2631 3529 \nQ 2884 3475 3122 3366 \nz\n\" id=\"DejaVuSans-63\" transform=\"scale(0.015625)\"/>\n      </defs>\n      <use xlink:href=\"#DejaVuSans-70\"/>\n      <use x=\"63.476562\" xlink:href=\"#DejaVuSans-72\"/>\n      <use x=\"102.339844\" xlink:href=\"#DejaVuSans-65\"/>\n      <use x=\"163.863281\" xlink:href=\"#DejaVuSans-64\"/>\n      <use x=\"227.339844\" xlink:href=\"#DejaVuSans-69\"/>\n      <use x=\"255.123047\" xlink:href=\"#DejaVuSans-63\"/>\n      <use x=\"310.103516\" xlink:href=\"#DejaVuSans-74\"/>\n     </g>\n    </g>\n   </g>\n  </g>\n </g>\n <defs>\n  <clipPath id=\"p7d2d23ad26\">\n   <rect height=\"217.44\" width=\"334.8\" x=\"38.482813\" y=\"7.2\"/>\n  </clipPath>\n </defs>\n</svg>\n",
      "image/png": "[encoded data removed]"
     },
     "metadata": {
      "needs_background": "light"
     }
    }
   ],
   "metadata": {}
  },
  {
   "cell_type": "markdown",
   "source": [
    "## vale lembrar que a curva é bem similar a uma seção da curva do cosseno"
   ],
   "metadata": {}
  }
 ],
 "metadata": {
  "orig_nbformat": 4,
  "language_info": {
   "name": "python",
   "version": "3.8.10",
   "mimetype": "text/x-python",
   "codemirror_mode": {
    "name": "ipython",
    "version": 3
   },
   "pygments_lexer": "ipython3",
   "nbconvert_exporter": "python",
   "file_extension": ".py"
  },
  "kernelspec": {
   "name": "python3",
   "display_name": "Python 3.8.10 64-bit"
  },
  "interpreter": {
   "hash": "916dbcbb3f70747c44a77c7bcd40155683ae19c65e1c03b4aa3499c5328201f1"
  }
 },
 "nbformat": 4,
 "nbformat_minor": 2
}