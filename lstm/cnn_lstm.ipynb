{
 "cells": [
  {
   "cell_type": "code",
   "execution_count": 15,
   "source": [
    "import matplotlib.pyplot as plt\r\n",
    "import numpy as np\r\n",
    "import pandas as pd\r\n",
    "import more_itertools\r\n",
    "\r\n",
    "from numpy import array\r\n",
    "from keras.models import Sequential\r\n",
    "from keras.layers import LSTM, Dense, Flatten\r\n",
    "from keras.layers import TimeDistributed\r\n",
    "from keras.layers.convolutional import Conv1D\r\n",
    "from keras.layers.convolutional import MaxPooling1D\r\n",
    "from keras.layers.convolutional import Conv1D\r\n",
    "from keras.layers.convolutional import MaxPooling1D\r\n",
    " \r\n",
    "from sklearn.metrics import mean_squared_error"
   ],
   "outputs": [],
   "metadata": {}
  },
  {
   "cell_type": "markdown",
   "source": [
    "# Preparação dos dados"
   ],
   "metadata": {}
  },
  {
   "cell_type": "markdown",
   "source": [
    "Dividir uma sequência univariada em amostras"
   ],
   "metadata": {}
  },
  {
   "cell_type": "code",
   "execution_count": 16,
   "source": [
    "X = np.linspace(0, 5*np.pi, 100, endpoint=True)\r\n",
    "C = np.cos(X)\r\n",
    "\r\n",
    "# transform numpy array to list\r\n",
    "C = C.tolist()\r\n",
    "\r\n",
    "plt.plot(X, C)\r\n",
    "plt.show()"
   ],
   "outputs": [
    {
     "output_type": "display_data",
     "data": {
      "image/png": "[encoded data removed]",
      "text/plain": [
       "<Figure size 432x288 with 1 Axes>"
      ]
     },
     "metadata": {
      "needs_background": "light"
     }
    }
   ],
   "metadata": {}
  },
  {
   "cell_type": "code",
   "execution_count": 24,
   "source": [
    "print(C)"
   ],
   "outputs": [
    {
     "output_type": "stream",
     "name": "stdout",
     "text": [
      "[1.0, 0.9874388886763943, 0.9500711177409454, 0.8888354486549235, 0.8052702575310586, 0.7014748877063213, 0.5800569095711982, 0.44406661260577424, 0.2969203753282749, 0.14231483827328512, -0.015865963834807807, -0.1736481776669303, -0.32706796331742166, -0.4722710747726826, -0.6056096871376665, -0.7237340381050702, -0.8236765814298327, -0.9029265382866211, -0.9594929736144974, -0.9919548128307953, -0.9994965423831852, -0.9819286972627067, -0.9396926207859084, -0.873849377069785, -0.7860530947427874, -0.6785094115571322, -0.5539200638661105, -0.4154150130018864, -0.2664738136900355, -0.11083819990101122, 0.04758191582374238, 0.20480666806519018, 0.35688622159187167, 0.5000000000000001, 0.6305526670845221, 0.7452644496757546, 0.8412535328311812, 0.9161084574320694, 0.9679487013963562, 0.9954719225730846, 0.9979866764718844, 0.975429786885407, 0.9283679330160726, 0.8579834132349773, 0.7660444431189781, 0.654860733945285, 0.5272254676105028, 0.3863451256931288, 0.2357589355094271, 0.07924995685678891, -0.0792499568567883, -0.2357589355094265, -0.38634512569312823, -0.5272254676105023, -0.6548607339452852, -0.7660444431189783, -0.8579834132349765, -0.9283679330160723, -0.9754297868854069, -0.9979866764718844, -0.9954719225730846, -0.9679487013963561, -0.91610845743207, -0.8412535328311815, -0.745264449675755, -0.6305526670845226, -0.49999999999999983, -0.35688622159187305, -0.20480666806519165, -0.04758191582374299, 0.11083819990101061, 0.2664738136900349, 0.4154150130018866, 0.5539200638661093, 0.6785094115571314, 0.7860530947427871, 0.8738493770697847, 0.9396926207859083, 0.9819286972627067, 0.9994965423831851, 0.9919548128307955, 0.9594929736144976, 0.9029265382866214, 0.8236765814298328, 0.72373403810507, 0.6056096871376676, 0.47227107477268354, 0.32706796331742227, 0.1736481776669307, 0.015865963834807977, -0.1423148382732854, -0.2969203753282737, -0.4440666126057733, -0.5800569095711977, -0.701474887706321, -0.8052702575310585, -0.8888354486549236, -0.950071117740945, -0.9874388886763942, -1.0]\n"
     ]
    }
   ],
   "metadata": {}
  },
  {
   "cell_type": "markdown",
   "source": [
    "Podemos dividir a sequência em vários padrões de entrada / saída chamados amostras, onde quatro etapas de tempo são usadas como entrada e uma etapa de tempo é usada como saída para a previsão de uma etapa que está sendo aprendida."
   ],
   "metadata": {}
  },
  {
   "cell_type": "code",
   "execution_count": 17,
   "source": [
    "# Função para dividir uma sequência univariada em amostras para o método de janelas\r\n",
    "# X - amostras de entrada; y - variável que será predita\r\n",
    "\r\n",
    "def split_sequence(sequence, n_steps):\r\n",
    "\tX, y = list(), list()\r\n",
    "\tfor i in range(len(sequence)):\r\n",
    "\t\tend_ix = i + n_steps\r\n",
    "\t\tif end_ix > len(sequence)-1:\r\n",
    "\t\t\tbreak\r\n",
    "\t\tseq_x, seq_y = sequence[i:end_ix], sequence[end_ix]\r\n",
    "\t\tX.append(seq_x)\r\n",
    "\t\ty.append(seq_y)\r\n",
    "\treturn np.array(X), np.array(y)"
   ],
   "outputs": [],
   "metadata": {}
  },
  {
   "cell_type": "code",
   "execution_count": 18,
   "source": [
    "# Escolha do numero de passos no tempo\r\n",
    "n_steps = 4\r\n",
    "\r\n",
    "X, y = split_sequence(C, n_steps)\r\n",
    "\r\n",
    "for i in range(len(X)):\r\n",
    "\tprint(X[i], y[i])"
   ],
   "outputs": [
    {
     "output_type": "stream",
     "name": "stdout",
     "text": [
      "[1.         0.98743889 0.95007112 0.88883545] 0.8052702575310586\n",
      "[0.98743889 0.95007112 0.88883545 0.80527026] 0.7014748877063213\n",
      "[0.95007112 0.88883545 0.80527026 0.70147489] 0.5800569095711982\n",
      "[0.88883545 0.80527026 0.70147489 0.58005691] 0.44406661260577424\n",
      "[0.80527026 0.70147489 0.58005691 0.44406661] 0.2969203753282749\n",
      "[0.70147489 0.58005691 0.44406661 0.29692038] 0.14231483827328512\n",
      "[0.58005691 0.44406661 0.29692038 0.14231484] -0.015865963834807807\n",
      "[ 0.44406661  0.29692038  0.14231484 -0.01586596] -0.1736481776669303\n",
      "[ 0.29692038  0.14231484 -0.01586596 -0.17364818] -0.32706796331742166\n",
      "[ 0.14231484 -0.01586596 -0.17364818 -0.32706796] -0.4722710747726826\n",
      "[-0.01586596 -0.17364818 -0.32706796 -0.47227107] -0.6056096871376665\n",
      "[-0.17364818 -0.32706796 -0.47227107 -0.60560969] -0.7237340381050702\n",
      "[-0.32706796 -0.47227107 -0.60560969 -0.72373404] -0.8236765814298327\n",
      "[-0.47227107 -0.60560969 -0.72373404 -0.82367658] -0.9029265382866211\n",
      "[-0.60560969 -0.72373404 -0.82367658 -0.90292654] -0.9594929736144974\n",
      "[-0.72373404 -0.82367658 -0.90292654 -0.95949297] -0.9919548128307953\n",
      "[-0.82367658 -0.90292654 -0.95949297 -0.99195481] -0.9994965423831852\n",
      "[-0.90292654 -0.95949297 -0.99195481 -0.99949654] -0.9819286972627067\n",
      "[-0.95949297 -0.99195481 -0.99949654 -0.9819287 ] -0.9396926207859084\n",
      "[-0.99195481 -0.99949654 -0.9819287  -0.93969262] -0.873849377069785\n",
      "[-0.99949654 -0.9819287  -0.93969262 -0.87384938] -0.7860530947427874\n",
      "[-0.9819287  -0.93969262 -0.87384938 -0.78605309] -0.6785094115571322\n",
      "[-0.93969262 -0.87384938 -0.78605309 -0.67850941] -0.5539200638661105\n",
      "[-0.87384938 -0.78605309 -0.67850941 -0.55392006] -0.4154150130018864\n",
      "[-0.78605309 -0.67850941 -0.55392006 -0.41541501] -0.2664738136900355\n",
      "[-0.67850941 -0.55392006 -0.41541501 -0.26647381] -0.11083819990101122\n",
      "[-0.55392006 -0.41541501 -0.26647381 -0.1108382 ] 0.04758191582374238\n",
      "[-0.41541501 -0.26647381 -0.1108382   0.04758192] 0.20480666806519018\n",
      "[-0.26647381 -0.1108382   0.04758192  0.20480667] 0.35688622159187167\n",
      "[-0.1108382   0.04758192  0.20480667  0.35688622] 0.5000000000000001\n",
      "[0.04758192 0.20480667 0.35688622 0.5       ] 0.6305526670845221\n",
      "[0.20480667 0.35688622 0.5        0.63055267] 0.7452644496757546\n",
      "[0.35688622 0.5        0.63055267 0.74526445] 0.8412535328311812\n",
      "[0.5        0.63055267 0.74526445 0.84125353] 0.9161084574320694\n",
      "[0.63055267 0.74526445 0.84125353 0.91610846] 0.9679487013963562\n",
      "[0.74526445 0.84125353 0.91610846 0.9679487 ] 0.9954719225730846\n",
      "[0.84125353 0.91610846 0.9679487  0.99547192] 0.9979866764718844\n",
      "[0.91610846 0.9679487  0.99547192 0.99798668] 0.975429786885407\n",
      "[0.9679487  0.99547192 0.99798668 0.97542979] 0.9283679330160726\n",
      "[0.99547192 0.99798668 0.97542979 0.92836793] 0.8579834132349773\n",
      "[0.99798668 0.97542979 0.92836793 0.85798341] 0.7660444431189781\n",
      "[0.97542979 0.92836793 0.85798341 0.76604444] 0.654860733945285\n",
      "[0.92836793 0.85798341 0.76604444 0.65486073] 0.5272254676105028\n",
      "[0.85798341 0.76604444 0.65486073 0.52722547] 0.3863451256931288\n",
      "[0.76604444 0.65486073 0.52722547 0.38634513] 0.2357589355094271\n",
      "[0.65486073 0.52722547 0.38634513 0.23575894] 0.07924995685678891\n",
      "[0.52722547 0.38634513 0.23575894 0.07924996] -0.0792499568567883\n",
      "[ 0.38634513  0.23575894  0.07924996 -0.07924996] -0.2357589355094265\n",
      "[ 0.23575894  0.07924996 -0.07924996 -0.23575894] -0.38634512569312823\n",
      "[ 0.07924996 -0.07924996 -0.23575894 -0.38634513] -0.5272254676105023\n",
      "[-0.07924996 -0.23575894 -0.38634513 -0.52722547] -0.6548607339452852\n",
      "[-0.23575894 -0.38634513 -0.52722547 -0.65486073] -0.7660444431189783\n",
      "[-0.38634513 -0.52722547 -0.65486073 -0.76604444] -0.8579834132349765\n",
      "[-0.52722547 -0.65486073 -0.76604444 -0.85798341] -0.9283679330160723\n",
      "[-0.65486073 -0.76604444 -0.85798341 -0.92836793] -0.9754297868854069\n",
      "[-0.76604444 -0.85798341 -0.92836793 -0.97542979] -0.9979866764718844\n",
      "[-0.85798341 -0.92836793 -0.97542979 -0.99798668] -0.9954719225730846\n",
      "[-0.92836793 -0.97542979 -0.99798668 -0.99547192] -0.9679487013963561\n",
      "[-0.97542979 -0.99798668 -0.99547192 -0.9679487 ] -0.91610845743207\n",
      "[-0.99798668 -0.99547192 -0.9679487  -0.91610846] -0.8412535328311815\n",
      "[-0.99547192 -0.9679487  -0.91610846 -0.84125353] -0.745264449675755\n",
      "[-0.9679487  -0.91610846 -0.84125353 -0.74526445] -0.6305526670845226\n",
      "[-0.91610846 -0.84125353 -0.74526445 -0.63055267] -0.49999999999999983\n",
      "[-0.84125353 -0.74526445 -0.63055267 -0.5       ] -0.35688622159187305\n",
      "[-0.74526445 -0.63055267 -0.5        -0.35688622] -0.20480666806519165\n",
      "[-0.63055267 -0.5        -0.35688622 -0.20480667] -0.04758191582374299\n",
      "[-0.5        -0.35688622 -0.20480667 -0.04758192] 0.11083819990101061\n",
      "[-0.35688622 -0.20480667 -0.04758192  0.1108382 ] 0.2664738136900349\n",
      "[-0.20480667 -0.04758192  0.1108382   0.26647381] 0.4154150130018866\n",
      "[-0.04758192  0.1108382   0.26647381  0.41541501] 0.5539200638661093\n",
      "[0.1108382  0.26647381 0.41541501 0.55392006] 0.6785094115571314\n",
      "[0.26647381 0.41541501 0.55392006 0.67850941] 0.7860530947427871\n",
      "[0.41541501 0.55392006 0.67850941 0.78605309] 0.8738493770697847\n",
      "[0.55392006 0.67850941 0.78605309 0.87384938] 0.9396926207859083\n",
      "[0.67850941 0.78605309 0.87384938 0.93969262] 0.9819286972627067\n",
      "[0.78605309 0.87384938 0.93969262 0.9819287 ] 0.9994965423831851\n",
      "[0.87384938 0.93969262 0.9819287  0.99949654] 0.9919548128307955\n",
      "[0.93969262 0.9819287  0.99949654 0.99195481] 0.9594929736144976\n",
      "[0.9819287  0.99949654 0.99195481 0.95949297] 0.9029265382866214\n",
      "[0.99949654 0.99195481 0.95949297 0.90292654] 0.8236765814298328\n",
      "[0.99195481 0.95949297 0.90292654 0.82367658] 0.72373403810507\n",
      "[0.95949297 0.90292654 0.82367658 0.72373404] 0.6056096871376676\n",
      "[0.90292654 0.82367658 0.72373404 0.60560969] 0.47227107477268354\n",
      "[0.82367658 0.72373404 0.60560969 0.47227107] 0.32706796331742227\n",
      "[0.72373404 0.60560969 0.47227107 0.32706796] 0.1736481776669307\n",
      "[0.60560969 0.47227107 0.32706796 0.17364818] 0.015865963834807977\n",
      "[0.47227107 0.32706796 0.17364818 0.01586596] -0.1423148382732854\n",
      "[ 0.32706796  0.17364818  0.01586596 -0.14231484] -0.2969203753282737\n",
      "[ 0.17364818  0.01586596 -0.14231484 -0.29692038] -0.4440666126057733\n",
      "[ 0.01586596 -0.14231484 -0.29692038 -0.44406661] -0.5800569095711977\n",
      "[-0.14231484 -0.29692038 -0.44406661 -0.58005691] -0.701474887706321\n",
      "[-0.29692038 -0.44406661 -0.58005691 -0.70147489] -0.8052702575310585\n",
      "[-0.44406661 -0.58005691 -0.70147489 -0.80527026] -0.8888354486549236\n",
      "[-0.58005691 -0.70147489 -0.80527026 -0.88883545] -0.950071117740945\n",
      "[-0.70147489 -0.80527026 -0.88883545 -0.95007112] -0.9874388886763942\n",
      "[-0.80527026 -0.88883545 -0.95007112 -0.98743889] -1.0\n"
     ]
    }
   ],
   "metadata": {}
  },
  {
   "cell_type": "markdown",
   "source": [
    "# Reshape"
   ],
   "metadata": {}
  },
  {
   "cell_type": "markdown",
   "source": [
    "As amostras de input têm que ser dividas em subamostras de 2 timesteps cada. Cada subsequência é interpretada pela CNN e alimentada como input para a lstm processar."
   ],
   "metadata": {}
  },
  {
   "cell_type": "code",
   "execution_count": 19,
   "source": [
    "n_features = 1 # série temporal univariada (uma variável de predição)\r\n",
    "\r\n",
    "n_seq = 2 \r\n",
    "n_steps = 2 #num. de timesteps por subamostra"
   ],
   "outputs": [],
   "metadata": {}
  },
  {
   "cell_type": "code",
   "execution_count": 20,
   "source": [
    "X.shape"
   ],
   "outputs": [
    {
     "output_type": "execute_result",
     "data": {
      "text/plain": [
       "(96, 4)"
      ]
     },
     "metadata": {},
     "execution_count": 20
    }
   ],
   "metadata": {}
  },
  {
   "cell_type": "code",
   "execution_count": 22,
   "source": [
    "# mudar o formato de [amostras, timesteps] para [amostras, subsequencias, timesteps, features]\r\n",
    "X = X.reshape((X.shape[0], n_seq, n_steps, n_features))"
   ],
   "outputs": [],
   "metadata": {}
  },
  {
   "cell_type": "code",
   "execution_count": 30,
   "source": [
    "X.shape"
   ],
   "outputs": [
    {
     "output_type": "execute_result",
     "data": {
      "text/plain": [
       "(96, 2, 1, 2, 1)"
      ]
     },
     "metadata": {},
     "execution_count": 30
    }
   ],
   "metadata": {}
  },
  {
   "cell_type": "code",
   "execution_count": 23,
   "source": [
    "X[0:4]"
   ],
   "outputs": [
    {
     "output_type": "execute_result",
     "data": {
      "text/plain": [
       "array([[[[1.        ],\n",
       "         [0.98743889]],\n",
       "\n",
       "        [[0.95007112],\n",
       "         [0.88883545]]],\n",
       "\n",
       "\n",
       "       [[[0.98743889],\n",
       "         [0.95007112]],\n",
       "\n",
       "        [[0.88883545],\n",
       "         [0.80527026]]],\n",
       "\n",
       "\n",
       "       [[[0.95007112],\n",
       "         [0.88883545]],\n",
       "\n",
       "        [[0.80527026],\n",
       "         [0.70147489]]],\n",
       "\n",
       "\n",
       "       [[[0.88883545],\n",
       "         [0.80527026]],\n",
       "\n",
       "        [[0.70147489],\n",
       "         [0.58005691]]]])"
      ]
     },
     "metadata": {},
     "execution_count": 23
    }
   ],
   "metadata": {}
  },
  {
   "cell_type": "markdown",
   "source": [
    "# Divisão da série temporal em treino e teste"
   ],
   "metadata": {}
  },
  {
   "cell_type": "code",
   "execution_count": 24,
   "source": [
    "# As 60 primeiras linhas como treino\r\n",
    "X_train = X[0:60]"
   ],
   "outputs": [],
   "metadata": {}
  },
  {
   "cell_type": "code",
   "execution_count": 25,
   "source": [
    "# O restante das linhas como teste\r\n",
    "X_test = X[60:]"
   ],
   "outputs": [],
   "metadata": {}
  },
  {
   "cell_type": "markdown",
   "source": [
    "Analogamente para a variável preditora"
   ],
   "metadata": {}
  },
  {
   "cell_type": "code",
   "execution_count": 26,
   "source": [
    "y_train = y[0:60]"
   ],
   "outputs": [],
   "metadata": {}
  },
  {
   "cell_type": "code",
   "execution_count": 27,
   "source": [
    "y_test = y[60:]"
   ],
   "outputs": [],
   "metadata": {}
  },
  {
   "cell_type": "markdown",
   "source": [
    "# Modelos LSTM para séries temporais univariadas"
   ],
   "metadata": {}
  },
  {
   "cell_type": "markdown",
   "source": [
    "Nesse problema de previsão de cosseno, tratamos de um caso de série temporal univariada. Sendo assim, podemos aplicar os seguintes modelos LSTM:\n",
    "\n",
    "* Vanilla LSTM\n",
    "* Stacked LSTM\n",
    "* Bidirectional LSTM\n",
    "* CNN LSTM\n",
    "* ConvLSTM"
   ],
   "metadata": {}
  },
  {
   "cell_type": "markdown",
   "source": [
    "## CNN LSTM"
   ],
   "metadata": {}
  },
  {
   "cell_type": "markdown",
   "source": [
    "Redes neurais CNN são compostas principalmente de **camada de convolução** e **camada de agrupamento**. Cada camada de convolução têm vários kérneis de convolução. Depois da operação de convolução, os recursos dos dados são extraídos, mas as dimensões são muito grandes. Pra resolver esse problema e reduzir o custo de treinamento da rede, a camada de agrupamento é adicionada."
   ],
   "metadata": {}
  },
  {
   "cell_type": "markdown",
   "source": [
    "O modelo pode ser usado em um formato híbrido com um backend LSTM onde a CNN interpreta as subsequências de input que são alimentadas em conjunto como uma sequência para o modelo LSTM processar. Esse modelo híbrido pe chamado de CNN-LSTM."
   ],
   "metadata": {}
  },
  {
   "cell_type": "markdown",
   "source": [
    "## Definindo o modelo LSTM CNN"
   ],
   "metadata": {}
  },
  {
   "cell_type": "code",
   "execution_count": 30,
   "source": [
    "# Definindo o modelo\r\n",
    "model = Sequential()\r\n",
    "model.add(TimeDistributed(Conv1D(filters=64, kernel_size=1, activation='relu'), input_shape=(n_seq, n_steps, n_features)))\r\n",
    "model.add(TimeDistributed(MaxPooling1D(pool_size=2)))\r\n",
    "model.add(TimeDistributed(Flatten()))\r\n",
    "model.add(LSTM(50, activation='relu'))\r\n",
    "model.add(Dense(1))\r\n",
    "model.compile(optimizer='adam', loss='mse')"
   ],
   "outputs": [],
   "metadata": {}
  },
  {
   "cell_type": "code",
   "execution_count": 31,
   "source": [
    "# fit model\r\n",
    "cnn_history = model.fit(X_train, y_train, epochs=1000, verbose=0)"
   ],
   "outputs": [],
   "metadata": {}
  },
  {
   "cell_type": "markdown",
   "source": [
    "**Levou 8.8 segundos para treinar**"
   ],
   "metadata": {}
  },
  {
   "cell_type": "code",
   "execution_count": 37,
   "source": [
    "plt.plot(cnn_history.history['loss'])\r\n",
    "plt.title('CNN LSTM loss')\r\n",
    "plt.ylabel('loss')\r\n",
    "plt.xlabel('epoch')\r\n",
    "plt.legend(['train'], loc='upper right')\r\n",
    "plt.show()"
   ],
   "outputs": [
    {
     "output_type": "display_data",
     "data": {
      "image/png": "[encoded data removed]",
      "text/plain": [
       "<Figure size 432x288 with 1 Axes>"
      ]
     },
     "metadata": {
      "needs_background": "light"
     }
    }
   ],
   "metadata": {}
  },
  {
   "cell_type": "code",
   "execution_count": 34,
   "source": [
    "# model prediction\r\n",
    "yhat = model.predict(X_test, verbose=0)"
   ],
   "outputs": [],
   "metadata": {}
  },
  {
   "cell_type": "code",
   "execution_count": 35,
   "source": [
    "#model evaluation\r\n",
    "mean_squared_error(y_test,yhat)"
   ],
   "outputs": [
    {
     "output_type": "execute_result",
     "data": {
      "text/plain": [
       "2.6673190660513158e-05"
      ]
     },
     "metadata": {},
     "execution_count": 35
    }
   ],
   "metadata": {}
  },
  {
   "cell_type": "code",
   "execution_count": 38,
   "source": [
    "plt.plot(y_test, label='test')\r\n",
    "plt.plot(yhat, label='CNN LSTM prediction')\r\n",
    "plt.legend()"
   ],
   "outputs": [
    {
     "output_type": "execute_result",
     "data": {
      "text/plain": [
       "<matplotlib.legend.Legend at 0x1b1f73bb370>"
      ]
     },
     "metadata": {},
     "execution_count": 38
    },
    {
     "output_type": "display_data",
     "data": {
      "image/png": "[encoded data removed]",
      "text/plain": [
       "<Figure size 432x288 with 1 Axes>"
      ]
     },
     "metadata": {
      "needs_background": "light"
     }
    }
   ],
   "metadata": {}
  },
  {
   "cell_type": "markdown",
   "source": [
    "## vale lembrar que a curva é bem similar a uma seção da curva do cosseno"
   ],
   "metadata": {}
  }
 ],
 "metadata": {
  "orig_nbformat": 4,
  "language_info": {
   "name": "python",
   "version": "3.9.7",
   "mimetype": "text/x-python",
   "codemirror_mode": {
    "name": "ipython",
    "version": 3
   },
   "pygments_lexer": "ipython3",
   "nbconvert_exporter": "python",
   "file_extension": ".py"
  },
  "kernelspec": {
   "name": "python3",
   "display_name": "Python 3.9.7 64-bit"
  },
  "interpreter": {
   "hash": "bb9b50555a5c0de9b38b1dcaf0dce6813b8719f40ed838204b8dea00b2d3ebeb"
  }
 },
 "nbformat": 4,
 "nbformat_minor": 2
}