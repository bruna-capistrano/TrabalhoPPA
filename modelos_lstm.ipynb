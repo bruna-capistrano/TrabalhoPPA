{
  "nbformat": 4,
  "nbformat_minor": 0,
  "metadata": {
    "orig_nbformat": 4,
    "language_info": {
      "name": "python",
      "version": "3.8.10",
      "mimetype": "text/x-python",
      "codemirror_mode": {
        "name": "ipython",
        "version": 3
      },
      "pygments_lexer": "ipython3",
      "nbconvert_exporter": "python",
      "file_extension": ".py"
    },
    "kernelspec": {
      "name": "python3",
      "display_name": "Python 3.8.10 64-bit"
    },
    "interpreter": {
      "hash": "916dbcbb3f70747c44a77c7bcd40155683ae19c65e1c03b4aa3499c5328201f1"
    },
    "colab": {
      "name": "stacked_lstm.ipynb",
      "provenance": [],
      "collapsed_sections": [],
      "toc_visible": true
    }
  },
  "cells": [
    {
      "cell_type": "code",
      "metadata": {
        "id": "6vfdUL2YJJKZ"
      },
      "source": [
        "import matplotlib.pyplot as plt\n",
        "import numpy as np\n",
        "import pandas as pd\n",
        "import more_itertools\n",
        "\n",
        "from keras.models import Sequential\n",
        "from keras.layers import LSTM, Dense\n",
        "\n",
        "from sklearn.metrics import mean_squared_error"
      ],
      "execution_count": 1,
      "outputs": []
    },
    {
      "cell_type": "markdown",
      "metadata": {
        "id": "o49R7XGgJJKe"
      },
      "source": [
        "# Preparação dos dados"
      ]
    },
    {
      "cell_type": "markdown",
      "metadata": {
        "id": "GybEhLWHJJKf"
      },
      "source": [
        "Dividir uma sequência univariada em amostras"
      ]
    },
    {
      "cell_type": "code",
      "metadata": {
        "colab": {
          "base_uri": "https://localhost:8080/",
          "height": 265
        },
        "id": "jpHaCdETJJKg",
        "outputId": "553b33a6-6ae2-4d94-f9da-fbd725d7aefd"
      },
      "source": [
        "X = np.linspace(0, 5*np.pi, 100, endpoint=True)\n",
        "C = np.cos(X)\n",
        "\n",
        "# transform numpy array to list\n",
        "C = C.tolist()\n",
        "\n",
        "plt.plot(X, C)\n",
        "plt.show()"
      ],
      "execution_count": 2,
      "outputs": [
        {
          "output_type": "display_data",
          "data": {
            "image/png": "[encoded data removed]",
            "text/plain": [
              "<Figure size 432x288 with 1 Axes>"
            ]
          },
          "metadata": {
            "needs_background": "light"
          }
        }
      ]
    },
    {
      "cell_type": "code",
      "metadata": {
        "colab": {
          "base_uri": "https://localhost:8080/"
        },
        "id": "_W1ug7HFJJKg",
        "outputId": "ea6cb147-e61d-4dad-b267-a4e9aa4e1f74"
      },
      "source": [
        "print(C)"
      ],
      "execution_count": 3,
      "outputs": [
        {
          "output_type": "stream",
          "name": "stdout",
          "text": [
            "[1.0, 0.9874388886763943, 0.9500711177409454, 0.8888354486549235, 0.8052702575310586, 0.7014748877063213, 0.5800569095711982, 0.44406661260577424, 0.2969203753282749, 0.14231483827328512, -0.015865963834807807, -0.1736481776669303, -0.32706796331742166, -0.4722710747726826, -0.6056096871376665, -0.7237340381050702, -0.8236765814298327, -0.9029265382866211, -0.9594929736144974, -0.9919548128307953, -0.9994965423831852, -0.9819286972627067, -0.9396926207859084, -0.873849377069785, -0.7860530947427874, -0.6785094115571322, -0.5539200638661105, -0.4154150130018864, -0.2664738136900355, -0.11083819990101122, 0.04758191582374238, 0.20480666806519018, 0.35688622159187167, 0.5000000000000001, 0.6305526670845221, 0.7452644496757546, 0.8412535328311812, 0.9161084574320694, 0.9679487013963562, 0.9954719225730846, 0.9979866764718844, 0.975429786885407, 0.9283679330160726, 0.8579834132349773, 0.7660444431189781, 0.654860733945285, 0.5272254676105028, 0.3863451256931288, 0.2357589355094271, 0.07924995685678891, -0.0792499568567883, -0.2357589355094265, -0.38634512569312823, -0.5272254676105023, -0.6548607339452852, -0.7660444431189783, -0.8579834132349765, -0.9283679330160723, -0.9754297868854069, -0.9979866764718844, -0.9954719225730846, -0.9679487013963561, -0.91610845743207, -0.8412535328311815, -0.745264449675755, -0.6305526670845226, -0.49999999999999983, -0.35688622159187305, -0.20480666806519165, -0.04758191582374299, 0.11083819990101061, 0.2664738136900349, 0.4154150130018866, 0.5539200638661093, 0.6785094115571315, 0.7860530947427871, 0.8738493770697848, 0.9396926207859083, 0.9819286972627067, 0.9994965423831851, 0.9919548128307955, 0.9594929736144976, 0.9029265382866214, 0.8236765814298328, 0.72373403810507, 0.6056096871376676, 0.47227107477268354, 0.32706796331742227, 0.1736481776669307, 0.015865963834807977, -0.1423148382732854, -0.2969203753282737, -0.4440666126057733, -0.5800569095711977, -0.701474887706321, -0.8052702575310586, -0.8888354486549236, -0.950071117740945, -0.9874388886763942, -1.0]\n"
          ]
        }
      ]
    },
    {
      "cell_type": "markdown",
      "metadata": {
        "id": "WNuJURYoJJKh"
      },
      "source": [
        "Podemos dividir a sequência em vários padrões de entrada / saída chamados amostras, onde três etapas de tempo são usadas como entrada e uma etapa de tempo é usada como saída para a previsão de uma etapa que está sendo aprendida."
      ]
    },
    {
      "cell_type": "code",
      "metadata": {
        "id": "6AcCdQsMJJKh"
      },
      "source": [
        "# Função para dividir uma sequência univariada em amostras para o método de janelas\n",
        "# X - amostras de entrada; y - variável que será predita\n",
        "\n",
        "def split_sequence(sequence, n_steps):\n",
        "\tX, y = list(), list()\n",
        "\tfor i in range(len(sequence)):\n",
        "\t\tend_ix = i + n_steps\n",
        "\t\tif end_ix > len(sequence)-1:\n",
        "\t\t\tbreak\n",
        "\t\tseq_x, seq_y = sequence[i:end_ix], sequence[end_ix]\n",
        "\t\tX.append(seq_x)\n",
        "\t\ty.append(seq_y)\n",
        "\treturn np.array(X), np.array(y)"
      ],
      "execution_count": 4,
      "outputs": []
    },
    {
      "cell_type": "code",
      "metadata": {
        "colab": {
          "base_uri": "https://localhost:8080/"
        },
        "id": "9haFiUh4JJKi",
        "outputId": "b7411b47-5b4e-44d2-9532-a02a29033a1e"
      },
      "source": [
        "# Escolha do numero de passos no tempo\n",
        "n_steps = 3\n",
        "\n",
        "X, y = split_sequence(C, n_steps)\n",
        "\n",
        "for i in range(len(X)):\n",
        "\tprint(X[i], y[i])"
      ],
      "execution_count": 5,
      "outputs": [
        {
          "output_type": "stream",
          "name": "stdout",
          "text": [
            "[1.         0.98743889 0.95007112] 0.8888354486549235\n",
            "[0.98743889 0.95007112 0.88883545] 0.8052702575310586\n",
            "[0.95007112 0.88883545 0.80527026] 0.7014748877063213\n",
            "[0.88883545 0.80527026 0.70147489] 0.5800569095711982\n",
            "[0.80527026 0.70147489 0.58005691] 0.44406661260577424\n",
            "[0.70147489 0.58005691 0.44406661] 0.2969203753282749\n",
            "[0.58005691 0.44406661 0.29692038] 0.14231483827328512\n",
            "[0.44406661 0.29692038 0.14231484] -0.015865963834807807\n",
            "[ 0.29692038  0.14231484 -0.01586596] -0.1736481776669303\n",
            "[ 0.14231484 -0.01586596 -0.17364818] -0.32706796331742166\n",
            "[-0.01586596 -0.17364818 -0.32706796] -0.4722710747726826\n",
            "[-0.17364818 -0.32706796 -0.47227107] -0.6056096871376665\n",
            "[-0.32706796 -0.47227107 -0.60560969] -0.7237340381050702\n",
            "[-0.47227107 -0.60560969 -0.72373404] -0.8236765814298327\n",
            "[-0.60560969 -0.72373404 -0.82367658] -0.9029265382866211\n",
            "[-0.72373404 -0.82367658 -0.90292654] -0.9594929736144974\n",
            "[-0.82367658 -0.90292654 -0.95949297] -0.9919548128307953\n",
            "[-0.90292654 -0.95949297 -0.99195481] -0.9994965423831852\n",
            "[-0.95949297 -0.99195481 -0.99949654] -0.9819286972627067\n",
            "[-0.99195481 -0.99949654 -0.9819287 ] -0.9396926207859084\n",
            "[-0.99949654 -0.9819287  -0.93969262] -0.873849377069785\n",
            "[-0.9819287  -0.93969262 -0.87384938] -0.7860530947427874\n",
            "[-0.93969262 -0.87384938 -0.78605309] -0.6785094115571322\n",
            "[-0.87384938 -0.78605309 -0.67850941] -0.5539200638661105\n",
            "[-0.78605309 -0.67850941 -0.55392006] -0.4154150130018864\n",
            "[-0.67850941 -0.55392006 -0.41541501] -0.2664738136900355\n",
            "[-0.55392006 -0.41541501 -0.26647381] -0.11083819990101122\n",
            "[-0.41541501 -0.26647381 -0.1108382 ] 0.04758191582374238\n",
            "[-0.26647381 -0.1108382   0.04758192] 0.20480666806519018\n",
            "[-0.1108382   0.04758192  0.20480667] 0.35688622159187167\n",
            "[0.04758192 0.20480667 0.35688622] 0.5000000000000001\n",
            "[0.20480667 0.35688622 0.5       ] 0.6305526670845221\n",
            "[0.35688622 0.5        0.63055267] 0.7452644496757546\n",
            "[0.5        0.63055267 0.74526445] 0.8412535328311812\n",
            "[0.63055267 0.74526445 0.84125353] 0.9161084574320694\n",
            "[0.74526445 0.84125353 0.91610846] 0.9679487013963562\n",
            "[0.84125353 0.91610846 0.9679487 ] 0.9954719225730846\n",
            "[0.91610846 0.9679487  0.99547192] 0.9979866764718844\n",
            "[0.9679487  0.99547192 0.99798668] 0.975429786885407\n",
            "[0.99547192 0.99798668 0.97542979] 0.9283679330160726\n",
            "[0.99798668 0.97542979 0.92836793] 0.8579834132349773\n",
            "[0.97542979 0.92836793 0.85798341] 0.7660444431189781\n",
            "[0.92836793 0.85798341 0.76604444] 0.654860733945285\n",
            "[0.85798341 0.76604444 0.65486073] 0.5272254676105028\n",
            "[0.76604444 0.65486073 0.52722547] 0.3863451256931288\n",
            "[0.65486073 0.52722547 0.38634513] 0.2357589355094271\n",
            "[0.52722547 0.38634513 0.23575894] 0.07924995685678891\n",
            "[0.38634513 0.23575894 0.07924996] -0.0792499568567883\n",
            "[ 0.23575894  0.07924996 -0.07924996] -0.2357589355094265\n",
            "[ 0.07924996 -0.07924996 -0.23575894] -0.38634512569312823\n",
            "[-0.07924996 -0.23575894 -0.38634513] -0.5272254676105023\n",
            "[-0.23575894 -0.38634513 -0.52722547] -0.6548607339452852\n",
            "[-0.38634513 -0.52722547 -0.65486073] -0.7660444431189783\n",
            "[-0.52722547 -0.65486073 -0.76604444] -0.8579834132349765\n",
            "[-0.65486073 -0.76604444 -0.85798341] -0.9283679330160723\n",
            "[-0.76604444 -0.85798341 -0.92836793] -0.9754297868854069\n",
            "[-0.85798341 -0.92836793 -0.97542979] -0.9979866764718844\n",
            "[-0.92836793 -0.97542979 -0.99798668] -0.9954719225730846\n",
            "[-0.97542979 -0.99798668 -0.99547192] -0.9679487013963561\n",
            "[-0.99798668 -0.99547192 -0.9679487 ] -0.91610845743207\n",
            "[-0.99547192 -0.9679487  -0.91610846] -0.8412535328311815\n",
            "[-0.9679487  -0.91610846 -0.84125353] -0.745264449675755\n",
            "[-0.91610846 -0.84125353 -0.74526445] -0.6305526670845226\n",
            "[-0.84125353 -0.74526445 -0.63055267] -0.49999999999999983\n",
            "[-0.74526445 -0.63055267 -0.5       ] -0.35688622159187305\n",
            "[-0.63055267 -0.5        -0.35688622] -0.20480666806519165\n",
            "[-0.5        -0.35688622 -0.20480667] -0.04758191582374299\n",
            "[-0.35688622 -0.20480667 -0.04758192] 0.11083819990101061\n",
            "[-0.20480667 -0.04758192  0.1108382 ] 0.2664738136900349\n",
            "[-0.04758192  0.1108382   0.26647381] 0.4154150130018866\n",
            "[0.1108382  0.26647381 0.41541501] 0.5539200638661093\n",
            "[0.26647381 0.41541501 0.55392006] 0.6785094115571315\n",
            "[0.41541501 0.55392006 0.67850941] 0.7860530947427871\n",
            "[0.55392006 0.67850941 0.78605309] 0.8738493770697848\n",
            "[0.67850941 0.78605309 0.87384938] 0.9396926207859083\n",
            "[0.78605309 0.87384938 0.93969262] 0.9819286972627067\n",
            "[0.87384938 0.93969262 0.9819287 ] 0.9994965423831851\n",
            "[0.93969262 0.9819287  0.99949654] 0.9919548128307955\n",
            "[0.9819287  0.99949654 0.99195481] 0.9594929736144976\n",
            "[0.99949654 0.99195481 0.95949297] 0.9029265382866214\n",
            "[0.99195481 0.95949297 0.90292654] 0.8236765814298328\n",
            "[0.95949297 0.90292654 0.82367658] 0.72373403810507\n",
            "[0.90292654 0.82367658 0.72373404] 0.6056096871376676\n",
            "[0.82367658 0.72373404 0.60560969] 0.47227107477268354\n",
            "[0.72373404 0.60560969 0.47227107] 0.32706796331742227\n",
            "[0.60560969 0.47227107 0.32706796] 0.1736481776669307\n",
            "[0.47227107 0.32706796 0.17364818] 0.015865963834807977\n",
            "[0.32706796 0.17364818 0.01586596] -0.1423148382732854\n",
            "[ 0.17364818  0.01586596 -0.14231484] -0.2969203753282737\n",
            "[ 0.01586596 -0.14231484 -0.29692038] -0.4440666126057733\n",
            "[-0.14231484 -0.29692038 -0.44406661] -0.5800569095711977\n",
            "[-0.29692038 -0.44406661 -0.58005691] -0.701474887706321\n",
            "[-0.44406661 -0.58005691 -0.70147489] -0.8052702575310586\n",
            "[-0.58005691 -0.70147489 -0.80527026] -0.8888354486549236\n",
            "[-0.70147489 -0.80527026 -0.88883545] -0.950071117740945\n",
            "[-0.80527026 -0.88883545 -0.95007112] -0.9874388886763942\n",
            "[-0.88883545 -0.95007112 -0.98743889] -1.0\n"
          ]
        }
      ]
    },
    {
      "cell_type": "code",
      "metadata": {
        "id": "nmkzLLl8JJKi"
      },
      "source": [
        "n_features = 1 # série temporal univariada (uma variável de predição)"
      ],
      "execution_count": 6,
      "outputs": []
    },
    {
      "cell_type": "code",
      "metadata": {
        "colab": {
          "base_uri": "https://localhost:8080/"
        },
        "id": "QPnpUBFEJJKi",
        "outputId": "7ac9decb-95f7-4e50-95e8-c0941363a6d3"
      },
      "source": [
        "X.shape"
      ],
      "execution_count": 7,
      "outputs": [
        {
          "output_type": "execute_result",
          "data": {
            "text/plain": [
              "(97, 3)"
            ]
          },
          "metadata": {},
          "execution_count": 7
        }
      ]
    },
    {
      "cell_type": "code",
      "metadata": {
        "id": "KOD1XfVtJJKj"
      },
      "source": [
        "# reshape de [samples, timesteps] para [samples, timesteps, features]\n",
        "X = X.reshape((X.shape[0], X.shape[1], n_features))"
      ],
      "execution_count": 8,
      "outputs": []
    },
    {
      "cell_type": "code",
      "metadata": {
        "colab": {
          "base_uri": "https://localhost:8080/"
        },
        "id": "OyNE-bHBJJKj",
        "outputId": "9ed13135-9b72-4538-85d1-304c4a38a56b"
      },
      "source": [
        "X.shape"
      ],
      "execution_count": 9,
      "outputs": [
        {
          "output_type": "execute_result",
          "data": {
            "text/plain": [
              "(97, 3, 1)"
            ]
          },
          "metadata": {},
          "execution_count": 9
        }
      ]
    },
    {
      "cell_type": "code",
      "metadata": {
        "colab": {
          "base_uri": "https://localhost:8080/"
        },
        "id": "npmvnR6kJJKj",
        "outputId": "fdcbf13d-748d-4d9c-f1c2-0efff046eaa3"
      },
      "source": [
        "X[0:4]"
      ],
      "execution_count": 10,
      "outputs": [
        {
          "output_type": "execute_result",
          "data": {
            "text/plain": [
              "array([[[1.        ],\n",
              "        [0.98743889],\n",
              "        [0.95007112]],\n",
              "\n",
              "       [[0.98743889],\n",
              "        [0.95007112],\n",
              "        [0.88883545]],\n",
              "\n",
              "       [[0.95007112],\n",
              "        [0.88883545],\n",
              "        [0.80527026]],\n",
              "\n",
              "       [[0.88883545],\n",
              "        [0.80527026],\n",
              "        [0.70147489]]])"
            ]
          },
          "metadata": {},
          "execution_count": 10
        }
      ]
    },
    {
      "cell_type": "markdown",
      "metadata": {
        "id": "zzKxY4nHJJKk"
      },
      "source": [
        "## Divisão da série temporal em treino e teste"
      ]
    },
    {
      "cell_type": "code",
      "metadata": {
        "id": "MoIZPiczJJKk"
      },
      "source": [
        "# As 60 primeiras linhas como treino\n",
        "X_train = X[0:60]"
      ],
      "execution_count": 11,
      "outputs": []
    },
    {
      "cell_type": "code",
      "metadata": {
        "id": "vl3-IEjIJJKl"
      },
      "source": [
        "# O restante das linhas como teste\n",
        "X_test = X[60:]"
      ],
      "execution_count": 12,
      "outputs": []
    },
    {
      "cell_type": "markdown",
      "metadata": {
        "id": "GUsE8D6bJJKl"
      },
      "source": [
        "Analogamente para a variável preditora"
      ]
    },
    {
      "cell_type": "code",
      "metadata": {
        "id": "29SXlhDmJJKl"
      },
      "source": [
        "y_train = y[0:60]"
      ],
      "execution_count": 13,
      "outputs": []
    },
    {
      "cell_type": "code",
      "metadata": {
        "id": "wldc_QKWJJKl"
      },
      "source": [
        "y_test = y[60:]"
      ],
      "execution_count": 14,
      "outputs": []
    },
    {
      "cell_type": "markdown",
      "metadata": {
        "id": "iSs3G0H1JJKm"
      },
      "source": [
        "# Modelos LSTM para séries temporais univariadas"
      ]
    },
    {
      "cell_type": "markdown",
      "metadata": {
        "id": "k3mlm3w6JJKm"
      },
      "source": [
        "Nesse problema de previsão de cosseno, tratamos de um caso de série temporal univariada. Sendo assim, podemos aplicar os seguintes modelos LSTM:\n",
        "\n",
        "* Vanilla LSTM\n",
        "* Stacked LSTM\n",
        "* Bidirectional LSTM\n",
        "* CNN LSTM\n",
        "* ConvLSTM"
      ]
    },
    {
      "cell_type": "markdown",
      "metadata": {
        "id": "EqmPrnLcJJKm"
      },
      "source": [
        "## Vanilla LSTM"
      ]
    },
    {
      "cell_type": "markdown",
      "metadata": {
        "id": "bARArNGWJJKm"
      },
      "source": [
        "Vanilla LSTM é um modelo que possui apenas uma camada escondida (hidden layer). E uma camada de saída para realizar a predição. "
      ]
    },
    {
      "cell_type": "markdown",
      "metadata": {
        "id": "h-UWlGtaJJKm"
      },
      "source": [
        "### Definindo o modelo LSTM Vanilla"
      ]
    },
    {
      "cell_type": "code",
      "metadata": {
        "id": "4mlsnuQ8JJKn"
      },
      "source": [
        "# Definindo o modelo\n",
        "vanilla = Sequential()\n",
        "vanilla.add(LSTM(50, activation='relu', input_shape=(n_steps, n_features)))\n",
        "vanilla.add(Dense(1))\n",
        "vanilla.compile(optimizer='adam', loss='mse')"
      ],
      "execution_count": 15,
      "outputs": []
    },
    {
      "cell_type": "code",
      "metadata": {
        "id": "xPNrfxI2JJKn"
      },
      "source": [
        "# fit model\n",
        "vanilla_history = vanilla.fit(X_train, y_train, epochs=500, verbose=0)"
      ],
      "execution_count": 16,
      "outputs": []
    },
    {
      "cell_type": "code",
      "metadata": {
        "colab": {
          "base_uri": "https://localhost:8080/",
          "height": 295
        },
        "id": "6raFJahrcDho",
        "outputId": "7ddc5009-53f1-4311-f0e6-b9f9e898beb7"
      },
      "source": [
        "plt.plot(vanilla_history.history['loss'])\n",
        "plt.title('Vanilla LSTM loss')\n",
        "plt.ylabel('loss')\n",
        "plt.xlabel('epoch')\n",
        "plt.legend(['train'])\n",
        "plt.show()"
      ],
      "execution_count": 17,
      "outputs": [
        {
          "output_type": "display_data",
          "data": {
            "image/png": "[encoded data removed]",
            "text/plain": [
              "<Figure size 432x288 with 1 Axes>"
            ]
          },
          "metadata": {
            "needs_background": "light"
          }
        }
      ]
    },
    {
      "cell_type": "code",
      "metadata": {
        "id": "DiuhWVmHJJKn"
      },
      "source": [
        "# model prediction\n",
        "vanilla_pred = vanilla.predict(X_test, verbose=0)"
      ],
      "execution_count": 18,
      "outputs": []
    },
    {
      "cell_type": "code",
      "metadata": {
        "colab": {
          "base_uri": "https://localhost:8080/"
        },
        "id": "2aHAgwijJJKo",
        "outputId": "f64d91f8-2fa5-48e8-f3d7-4f21c2d45332"
      },
      "source": [
        "#model evaluation\n",
        "mean_squared_error(y_test, vanilla_pred)"
      ],
      "execution_count": 19,
      "outputs": [
        {
          "output_type": "execute_result",
          "data": {
            "text/plain": [
              "7.922425785628069e-05"
            ]
          },
          "metadata": {},
          "execution_count": 19
        }
      ]
    },
    {
      "cell_type": "code",
      "metadata": {
        "colab": {
          "base_uri": "https://localhost:8080/",
          "height": 265
        },
        "id": "Tk6XEQHTJJKo",
        "outputId": "f99fe2d8-592e-43d1-d6e4-88185ef0aa82"
      },
      "source": [
        "plt.plot(y_test, label='test')\n",
        "plt.plot(vanilla_pred, label='predict')\n",
        "plt.legend()\n",
        "plt.show()"
      ],
      "execution_count": 27,
      "outputs": [
        {
          "output_type": "display_data",
          "data": {
            "image/png": "[encoded data removed]",
            "text/plain": [
              "<Figure size 432x288 with 1 Axes>"
            ]
          },
          "metadata": {
            "needs_background": "light"
          }
        }
      ]
    },
    {
      "cell_type": "markdown",
      "metadata": {
        "id": "Ub-TcxKvLPpA"
      },
      "source": [
        "A Stacked LSTM é similar a uma Vanilla LSTM, porém, possui mais de uma camada de células LSTM em seu modelo.\n",
        "\n",
        "- Para se modelar uma Stacked LSTM utilizando o Keras, basta adicionar mais de uma camada LSTM ao modelo.\n",
        "- É utilizado o parâmetro \"return_sequences=True\" para que o output de uma camada LSTM sirva de input para a próxima camada LSTM.\n"
      ]
    },
    {
      "cell_type": "markdown",
      "metadata": {
        "id": "PfqJnAiYMmDs"
      },
      "source": [
        ""
      ]
    },
    {
      "cell_type": "markdown",
      "metadata": {
        "id": "Eaz1clOHLI2Q"
      },
      "source": [
        "# Stacked LSTM\n",
        "\n",
        "A Stacked LSTM é similar a uma Vanilla LSTM, porém, possui mais de uma camada de células LSTM em seu modelo.\n",
        "\n",
        "- Para se modelar uma Stacked LSTM utilizando o Keras, basta adicionar mais de uma camada LSTM ao modelo.\n",
        "- É utilizado o parâmetro \"return_sequences=True\" para que o output de uma camada LSTM sirva de input para a próxima camada LSTM.\n"
      ]
    },
    {
      "cell_type": "code",
      "metadata": {
        "id": "Mcvp0ShHLhrj"
      },
      "source": [
        "# Definindo o modelo\n",
        "stacked = Sequential()\n",
        "stacked.add(LSTM(50, activation='relu', input_shape=(n_steps, n_features), return_sequences=True))\n",
        "stacked.add(LSTM(50, activation='relu', input_shape=(n_steps, n_features), return_sequences=True))\n",
        "stacked.add(LSTM(50, activation='relu'))\n",
        "stacked.add(Dense(1))\n",
        "stacked.compile(optimizer='adam', loss='mse')"
      ],
      "execution_count": 21,
      "outputs": []
    },
    {
      "cell_type": "code",
      "metadata": {
        "id": "eIw-yAVoPgC4"
      },
      "source": [
        "# model prediction\n",
        "stacked_history = stacked.fit(X_train, y_train, epochs=500, verbose=0)"
      ],
      "execution_count": 22,
      "outputs": []
    },
    {
      "cell_type": "code",
      "metadata": {
        "colab": {
          "base_uri": "https://localhost:8080/",
          "height": 295
        },
        "id": "SwkFzgPoQjjk",
        "outputId": "ec309b22-f3a6-4cc8-a130-fa4ca761edc5"
      },
      "source": [
        "plt.plot(stacked_history.history['loss'])\n",
        "plt.title('Stacked LSTM loss')\n",
        "plt.ylabel('loss')\n",
        "plt.xlabel('epoch')\n",
        "plt.legend(['train', 'test'], loc='upper right')\n",
        "plt.show()"
      ],
      "execution_count": 23,
      "outputs": [
        {
          "output_type": "display_data",
          "data": {
            "image/png": "[encoded data removed]",
            "text/plain": [
              "<Figure size 432x288 with 1 Axes>"
            ]
          },
          "metadata": {
            "needs_background": "light"
          }
        }
      ]
    },
    {
      "cell_type": "code",
      "metadata": {
        "id": "wVflyUizavJC"
      },
      "source": [
        "# stacked LSTM prediction\n",
        "stacked_pred = stacked.predict(X_test, verbose=0)"
      ],
      "execution_count": 24,
      "outputs": []
    },
    {
      "cell_type": "code",
      "metadata": {
        "colab": {
          "base_uri": "https://localhost:8080/"
        },
        "id": "xBbfD1HObBoi",
        "outputId": "76d6e50b-5696-4bc8-ef08-fb196ba0080e"
      },
      "source": [
        "# model evaluation\n",
        "mean_squared_error(y_test, stacked_pred)"
      ],
      "execution_count": 25,
      "outputs": [
        {
          "output_type": "execute_result",
          "data": {
            "text/plain": [
              "0.000123091795527392"
            ]
          },
          "metadata": {},
          "execution_count": 25
        }
      ]
    },
    {
      "cell_type": "code",
      "metadata": {
        "colab": {
          "base_uri": "https://localhost:8080/",
          "height": 265
        },
        "id": "YTH-hQs5beZz",
        "outputId": "817e85ff-0cf2-44cf-9fe0-829d9ffc7f1c"
      },
      "source": [
        "plt.plot(y_test, label='test')\n",
        "plt.plot(stacked_pred, label='Stacked LSTM prediction')\n",
        "plt.legend()\n",
        "plt.show()"
      ],
      "execution_count": 26,
      "outputs": [
        {
          "output_type": "display_data",
          "data": {
            "image/png": "[encoded data removed]",
            "text/plain": [
              "<Figure size 432x288 with 1 Axes>"
            ]
          },
          "metadata": {
            "needs_background": "light"
          }
        }
      ]
    }
  ]
}